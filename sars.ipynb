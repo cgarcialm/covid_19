{
 "cells": [
  {
   "cell_type": "markdown",
   "metadata": {},
   "source": [
    "# SARS Data\n",
    "23 March 2020\n",
    "\n",
    "Cecilia García López de Munain"
   ]
  },
  {
   "cell_type": "markdown",
   "metadata": {},
   "source": [
    "## Packages"
   ]
  },
  {
   "cell_type": "code",
   "execution_count": 42,
   "metadata": {},
   "outputs": [],
   "source": [
    "import os\n",
    "import codecs \n",
    "import json\n",
    "import pandas as pd"
   ]
  },
  {
   "cell_type": "markdown",
   "metadata": {},
   "source": [
    "## Parameters"
   ]
  },
  {
   "cell_type": "markdown",
   "metadata": {},
   "source": [
    "Source: https://github.com/aute/SARS_data/blob/master/Infected%20InChina.json"
   ]
  },
  {
   "cell_type": "code",
   "execution_count": 43,
   "metadata": {},
   "outputs": [],
   "source": [
    "PATH_INPUT_DATA = 'data\\\\input'\n",
    "PATH_OUTPUT_DATA = 'data\\\\interim'\n",
    "\n",
    "INPUT_DATA_NAME = 'Infected InChina.json'\n",
    "OUTPUT_DATA_NAME = 'sars_data.csv'"
   ]
  },
  {
   "cell_type": "markdown",
   "metadata": {},
   "source": [
    "## Import"
   ]
  },
  {
   "cell_type": "code",
   "execution_count": 44,
   "metadata": {},
   "outputs": [],
   "source": [
    "with codecs.open(os.path.join(PATH_INPUT_DATA, INPUT_DATA_NAME), 'r', 'utf-8') as data_file:\n",
    "  data = json.load(data_file)"
   ]
  },
  {
   "cell_type": "markdown",
   "metadata": {},
   "source": [
    "## Process Data"
   ]
  },
  {
   "cell_type": "code",
   "execution_count": null,
   "metadata": {
    "scrolled": true
   },
   "outputs": [],
   "source": [
    "sars_data = pd.DataFrame(columns=['date', 'city', 'cumulative','cured','deaths','uncertain'])\n",
    "\n",
    "for i, date in enumerate(data):\n",
    "    for register in data.get(date):\n",
    "        sars_data = sars_data.append({\n",
    "            'date': date,\n",
    "            'city': register.get('city'),\n",
    "            'cumulative': register.get('cumulative'),\n",
    "            'cured': register.get('cured'),\n",
    "            'deaths': register.get('deaths'),\n",
    "            'uncertain': register.get('uncertain'),\n",
    "                         }, ignore_index=True)\n",
    "sars_data.loc[:,'date'] = pd.to_datetime(sars_data.date)\n",
    "sars_data.set_index('date', inplace=True)\n",
    "\n",
    "sars_data.head()"
   ]
  },
  {
   "cell_type": "code",
   "execution_count": null,
   "metadata": {
    "scrolled": false
   },
   "outputs": [],
   "source": [
    "dict_cities = {v: k for k, v in enumerate(list(sars_data.city.unique()))}"
   ]
  },
  {
   "cell_type": "code",
   "execution_count": null,
   "metadata": {},
   "outputs": [],
   "source": [
    "sars_data.loc[:,'id_city'] = sars_data.loc[:,'city'].map(dict_cities)"
   ]
  },
  {
   "cell_type": "code",
   "execution_count": null,
   "metadata": {},
   "outputs": [],
   "source": [
    "sars_data.head()"
   ]
  },
  {
   "cell_type": "markdown",
   "metadata": {},
   "source": [
    "## Export"
   ]
  },
  {
   "cell_type": "code",
   "execution_count": null,
   "metadata": {},
   "outputs": [],
   "source": [
    "sars_data.to_csv(os.path.join(PATH_OUTPUT_DATA, OUTPUT_DATA_NAME))"
   ]
  },
  {
   "cell_type": "code",
   "execution_count": null,
   "metadata": {},
   "outputs": [],
   "source": []
  }
 ],
 "metadata": {
  "kernelspec": {
   "display_name": "Python 3",
   "language": "python",
   "name": "python3"
  },
  "language_info": {
   "codemirror_mode": {
    "name": "ipython",
    "version": 3
   },
   "file_extension": ".py",
   "mimetype": "text/x-python",
   "name": "python",
   "nbconvert_exporter": "python",
   "pygments_lexer": "ipython3",
   "version": "3.6.4"
  },
  "toc": {
   "base_numbering": 1,
   "nav_menu": {},
   "number_sections": true,
   "sideBar": true,
   "skip_h1_title": false,
   "title_cell": "Table of Contents",
   "title_sidebar": "Contents",
   "toc_cell": false,
   "toc_position": {},
   "toc_section_display": true,
   "toc_window_display": false
  }
 },
 "nbformat": 4,
 "nbformat_minor": 2
}
