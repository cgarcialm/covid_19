{
 "cells": [
  {
   "cell_type": "markdown",
   "metadata": {},
   "source": [
    "# SARS Data\n",
    "23 March 2020\n",
    "\n",
    "Cecilia García López de Munain"
   ]
  },
  {
   "cell_type": "markdown",
   "metadata": {},
   "source": [
    "## Packages"
   ]
  },
  {
   "cell_type": "code",
   "execution_count": 1,
   "metadata": {},
   "outputs": [],
   "source": [
    "import os\n",
    "import codecs \n",
    "import json\n",
    "import pandas as pd"
   ]
  },
  {
   "cell_type": "markdown",
   "metadata": {},
   "source": [
    "## Parameters"
   ]
  },
  {
   "cell_type": "markdown",
   "metadata": {},
   "source": [
    "Source: https://github.com/aute/SARS_data/blob/master/Infected%20InChina.json"
   ]
  },
  {
   "cell_type": "code",
   "execution_count": 2,
   "metadata": {},
   "outputs": [],
   "source": [
    "PATH_INPUT_DATA = 'data\\\\input'\n",
    "PATH_OUTPUT_DATA = 'data\\\\interim'\n",
    "\n",
    "INPUT_DATA_NAME = 'Infected InChina.json'\n",
    "OUTPUT_DATA_NAME = 'sars_data.csv'"
   ]
  },
  {
   "cell_type": "markdown",
   "metadata": {},
   "source": [
    "## Import"
   ]
  },
  {
   "cell_type": "code",
   "execution_count": 3,
   "metadata": {},
   "outputs": [],
   "source": [
    "with codecs.open(os.path.join(PATH_INPUT_DATA, INPUT_DATA_NAME), 'r', 'utf-8') as data_file:\n",
    "  data = json.load(data_file)"
   ]
  },
  {
   "cell_type": "markdown",
   "metadata": {},
   "source": [
    "## Process Data"
   ]
  },
  {
   "cell_type": "code",
   "execution_count": 4,
   "metadata": {
    "scrolled": true
   },
   "outputs": [
    {
     "data": {
      "text/html": [
       "<div>\n",
       "<style scoped>\n",
       "    .dataframe tbody tr th:only-of-type {\n",
       "        vertical-align: middle;\n",
       "    }\n",
       "\n",
       "    .dataframe tbody tr th {\n",
       "        vertical-align: top;\n",
       "    }\n",
       "\n",
       "    .dataframe thead th {\n",
       "        text-align: right;\n",
       "    }\n",
       "</style>\n",
       "<table border=\"1\" class=\"dataframe\">\n",
       "  <thead>\n",
       "    <tr style=\"text-align: right;\">\n",
       "      <th></th>\n",
       "      <th>city</th>\n",
       "      <th>cumulative</th>\n",
       "      <th>cured</th>\n",
       "      <th>deaths</th>\n",
       "      <th>uncertain</th>\n",
       "    </tr>\n",
       "    <tr>\n",
       "      <th>date</th>\n",
       "      <th></th>\n",
       "      <th></th>\n",
       "      <th></th>\n",
       "      <th></th>\n",
       "      <th></th>\n",
       "    </tr>\n",
       "  </thead>\n",
       "  <tbody>\n",
       "    <tr>\n",
       "      <th>2003-04-21</th>\n",
       "      <td>广东</td>\n",
       "      <td>1317</td>\n",
       "      <td>1136</td>\n",
       "      <td>48</td>\n",
       "      <td></td>\n",
       "    </tr>\n",
       "    <tr>\n",
       "      <th>2003-04-21</th>\n",
       "      <td>北京</td>\n",
       "      <td>482</td>\n",
       "      <td>43</td>\n",
       "      <td>25</td>\n",
       "      <td>610</td>\n",
       "    </tr>\n",
       "    <tr>\n",
       "      <th>2003-04-21</th>\n",
       "      <td>山西</td>\n",
       "      <td>120</td>\n",
       "      <td>6</td>\n",
       "      <td>7</td>\n",
       "      <td>61</td>\n",
       "    </tr>\n",
       "    <tr>\n",
       "      <th>2003-04-21</th>\n",
       "      <td>内蒙古</td>\n",
       "      <td>30</td>\n",
       "      <td></td>\n",
       "      <td>6</td>\n",
       "      <td>48</td>\n",
       "    </tr>\n",
       "    <tr>\n",
       "      <th>2003-04-21</th>\n",
       "      <td>四川</td>\n",
       "      <td>8</td>\n",
       "      <td>3</td>\n",
       "      <td>2</td>\n",
       "      <td>7</td>\n",
       "    </tr>\n",
       "  </tbody>\n",
       "</table>\n",
       "</div>"
      ],
      "text/plain": [
       "           city cumulative cured deaths uncertain\n",
       "date                                             \n",
       "2003-04-21   广东       1317  1136     48          \n",
       "2003-04-21   北京        482    43     25       610\n",
       "2003-04-21   山西        120     6      7        61\n",
       "2003-04-21  内蒙古         30            6        48\n",
       "2003-04-21   四川          8     3      2         7"
      ]
     },
     "execution_count": 4,
     "metadata": {},
     "output_type": "execute_result"
    }
   ],
   "source": [
    "sars_data = pd.DataFrame(columns=['date', 'city', 'cumulative','cured','deaths','uncertain'])\n",
    "\n",
    "for i, date in enumerate(data):\n",
    "    for register in data.get(date):\n",
    "        sars_data = sars_data.append({\n",
    "            'date': date,\n",
    "            'city': register.get('city'),\n",
    "            'cumulative': register.get('cumulative'),\n",
    "            'cured': register.get('cured'),\n",
    "            'deaths': register.get('deaths'),\n",
    "            'uncertain': register.get('uncertain'),\n",
    "                         }, ignore_index=True)\n",
    "sars_data.loc[:,'date'] = pd.to_datetime(sars_data.date)\n",
    "sars_data.set_index('date', inplace=True)\n",
    "\n",
    "sars_data.head()"
   ]
  },
  {
   "cell_type": "code",
   "execution_count": 5,
   "metadata": {
    "scrolled": false
   },
   "outputs": [
    {
     "data": {
      "text/plain": [
       "{'广东': 0,\n",
       " '北京': 1,\n",
       " '山西': 2,\n",
       " '内蒙古': 3,\n",
       " '四川': 4,\n",
       " '广西': 5,\n",
       " '河南': 6,\n",
       " '宁夏': 7,\n",
       " '吉林': 8,\n",
       " '浙江': 9,\n",
       " '辽宁': 10,\n",
       " '甘肃': 11,\n",
       " '陕西': 12,\n",
       " '湖南': 13,\n",
       " '上海': 14,\n",
       " '河北': 15,\n",
       " '天津': 16,\n",
       " '新疆': 17,\n",
       " '重庆': 18,\n",
       " '总计': 19,\n",
       " '山东': 20,\n",
       " '湖北': 21,\n",
       " '福建': 22,\n",
       " '江苏': 23,\n",
       " '贵州': 24,\n",
       " '江西': 25,\n",
       " '安徽': 26,\n",
       " '黑龙江': 27,\n",
       " '合计': 28,\n",
       " '': 29,\n",
       " None: 30}"
      ]
     },
     "execution_count": 5,
     "metadata": {},
     "output_type": "execute_result"
    }
   ],
   "source": [
    "dict_cities = {v: k for k, v in enumerate(list(sars_data.city.unique()))}\n",
    "dict_cities"
   ]
  },
  {
   "cell_type": "code",
   "execution_count": 6,
   "metadata": {},
   "outputs": [],
   "source": [
    "sars_data.loc[:,'id_city'] = sars_data.loc[:,'city'].map(dict_cities)"
   ]
  },
  {
   "cell_type": "code",
   "execution_count": 7,
   "metadata": {},
   "outputs": [
    {
     "data": {
      "text/html": [
       "<div>\n",
       "<style scoped>\n",
       "    .dataframe tbody tr th:only-of-type {\n",
       "        vertical-align: middle;\n",
       "    }\n",
       "\n",
       "    .dataframe tbody tr th {\n",
       "        vertical-align: top;\n",
       "    }\n",
       "\n",
       "    .dataframe thead th {\n",
       "        text-align: right;\n",
       "    }\n",
       "</style>\n",
       "<table border=\"1\" class=\"dataframe\">\n",
       "  <thead>\n",
       "    <tr style=\"text-align: right;\">\n",
       "      <th></th>\n",
       "      <th>city</th>\n",
       "      <th>cumulative</th>\n",
       "      <th>cured</th>\n",
       "      <th>deaths</th>\n",
       "      <th>uncertain</th>\n",
       "      <th>id_city</th>\n",
       "    </tr>\n",
       "    <tr>\n",
       "      <th>date</th>\n",
       "      <th></th>\n",
       "      <th></th>\n",
       "      <th></th>\n",
       "      <th></th>\n",
       "      <th></th>\n",
       "      <th></th>\n",
       "    </tr>\n",
       "  </thead>\n",
       "  <tbody>\n",
       "    <tr>\n",
       "      <th>2003-04-21</th>\n",
       "      <td>广东</td>\n",
       "      <td>1317</td>\n",
       "      <td>1136</td>\n",
       "      <td>48</td>\n",
       "      <td></td>\n",
       "      <td>0</td>\n",
       "    </tr>\n",
       "    <tr>\n",
       "      <th>2003-04-21</th>\n",
       "      <td>北京</td>\n",
       "      <td>482</td>\n",
       "      <td>43</td>\n",
       "      <td>25</td>\n",
       "      <td>610</td>\n",
       "      <td>1</td>\n",
       "    </tr>\n",
       "    <tr>\n",
       "      <th>2003-04-21</th>\n",
       "      <td>山西</td>\n",
       "      <td>120</td>\n",
       "      <td>6</td>\n",
       "      <td>7</td>\n",
       "      <td>61</td>\n",
       "      <td>2</td>\n",
       "    </tr>\n",
       "    <tr>\n",
       "      <th>2003-04-21</th>\n",
       "      <td>内蒙古</td>\n",
       "      <td>30</td>\n",
       "      <td></td>\n",
       "      <td>6</td>\n",
       "      <td>48</td>\n",
       "      <td>3</td>\n",
       "    </tr>\n",
       "    <tr>\n",
       "      <th>2003-04-21</th>\n",
       "      <td>四川</td>\n",
       "      <td>8</td>\n",
       "      <td>3</td>\n",
       "      <td>2</td>\n",
       "      <td>7</td>\n",
       "      <td>4</td>\n",
       "    </tr>\n",
       "  </tbody>\n",
       "</table>\n",
       "</div>"
      ],
      "text/plain": [
       "           city cumulative cured deaths uncertain  id_city\n",
       "date                                                      \n",
       "2003-04-21   广东       1317  1136     48                  0\n",
       "2003-04-21   北京        482    43     25       610        1\n",
       "2003-04-21   山西        120     6      7        61        2\n",
       "2003-04-21  内蒙古         30            6        48        3\n",
       "2003-04-21   四川          8     3      2         7        4"
      ]
     },
     "execution_count": 7,
     "metadata": {},
     "output_type": "execute_result"
    }
   ],
   "source": [
    "sars_data.head()"
   ]
  },
  {
   "cell_type": "markdown",
   "metadata": {},
   "source": [
    "## Export"
   ]
  },
  {
   "cell_type": "code",
   "execution_count": 8,
   "metadata": {},
   "outputs": [],
   "source": [
    "sars_data.to_csv(os.path.join(PATH_OUTPUT_DATA, OUTPUT_DATA_NAME))"
   ]
  }
 ],
 "metadata": {
  "kernelspec": {
   "display_name": "Python 3",
   "language": "python",
   "name": "python3"
  },
  "language_info": {
   "codemirror_mode": {
    "name": "ipython",
    "version": 3
   },
   "file_extension": ".py",
   "mimetype": "text/x-python",
   "name": "python",
   "nbconvert_exporter": "python",
   "pygments_lexer": "ipython3",
   "version": "3.6.4"
  },
  "toc": {
   "base_numbering": 1,
   "nav_menu": {},
   "number_sections": true,
   "sideBar": true,
   "skip_h1_title": false,
   "title_cell": "Table of Contents",
   "title_sidebar": "Contents",
   "toc_cell": false,
   "toc_position": {},
   "toc_section_display": true,
   "toc_window_display": false
  }
 },
 "nbformat": 4,
 "nbformat_minor": 2
}
