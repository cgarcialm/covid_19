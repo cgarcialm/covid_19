{
 "cells": [
  {
   "cell_type": "markdown",
   "metadata": {},
   "source": [
    "# Data Exploration of COVID-19\n",
    "14 March 2020\n",
    "\n",
    "Cecilia García López de Munain"
   ]
  },
  {
   "cell_type": "markdown",
   "metadata": {},
   "source": [
    "## Libraries"
   ]
  },
  {
   "cell_type": "code",
   "execution_count": 4,
   "metadata": {},
   "outputs": [],
   "source": [
    "import pandas as pd\n",
    "import numpy as np\n",
    "import os\n",
    "import sys\n",
    "import matplotlib.pyplot as plt\n",
    "import pickle"
   ]
  },
  {
   "cell_type": "markdown",
   "metadata": {},
   "source": [
    "## Parameters"
   ]
  },
  {
   "cell_type": "code",
   "execution_count": 5,
   "metadata": {},
   "outputs": [],
   "source": [
    "sys.path.append('./')"
   ]
  },
  {
   "cell_type": "code",
   "execution_count": 6,
   "metadata": {},
   "outputs": [],
   "source": [
    "PATH_ROOT_INPUT_DATA = 'data\\\\input'\n",
    "INPUT_DATA_NAME = 'COVID-19-geographic-disbtribution-worldwide-2020-03-14_1.xls'\n",
    "\n",
    "PATH_ROOT_INTERIM_DATA = 'data\\\\interim'\n",
    "INTERIM_DATA_NAME = 'covid_19_data_cum'"
   ]
  },
  {
   "cell_type": "markdown",
   "metadata": {},
   "source": [
    "## Import Data"
   ]
  },
  {
   "cell_type": "code",
   "execution_count": 7,
   "metadata": {},
   "outputs": [],
   "source": [
    "covid19_data = pd.read_excel(os.path.join(PATH_ROOT_INPUT_DATA,INPUT_DATA_NAME))"
   ]
  },
  {
   "cell_type": "code",
   "execution_count": 8,
   "metadata": {
    "scrolled": true
   },
   "outputs": [
    {
     "data": {
      "text/html": [
       "<div>\n",
       "<style scoped>\n",
       "    .dataframe tbody tr th:only-of-type {\n",
       "        vertical-align: middle;\n",
       "    }\n",
       "\n",
       "    .dataframe tbody tr th {\n",
       "        vertical-align: top;\n",
       "    }\n",
       "\n",
       "    .dataframe thead th {\n",
       "        text-align: right;\n",
       "    }\n",
       "</style>\n",
       "<table border=\"1\" class=\"dataframe\">\n",
       "  <thead>\n",
       "    <tr style=\"text-align: right;\">\n",
       "      <th></th>\n",
       "      <th>DateRep</th>\n",
       "      <th>CountryExp</th>\n",
       "      <th>NewConfCases</th>\n",
       "      <th>NewDeaths</th>\n",
       "      <th>GeoId</th>\n",
       "      <th>Gaul1Nuts1</th>\n",
       "      <th>EU</th>\n",
       "    </tr>\n",
       "  </thead>\n",
       "  <tbody>\n",
       "    <tr>\n",
       "      <th>0</th>\n",
       "      <td>2020-03-11</td>\n",
       "      <td>Afghanistan</td>\n",
       "      <td>3</td>\n",
       "      <td>0</td>\n",
       "      <td>AF</td>\n",
       "      <td>NaN</td>\n",
       "      <td>Non-EU/EEA</td>\n",
       "    </tr>\n",
       "    <tr>\n",
       "      <th>1</th>\n",
       "      <td>2020-03-08</td>\n",
       "      <td>Afghanistan</td>\n",
       "      <td>3</td>\n",
       "      <td>0</td>\n",
       "      <td>AF</td>\n",
       "      <td>NaN</td>\n",
       "      <td>Non-EU/EEA</td>\n",
       "    </tr>\n",
       "    <tr>\n",
       "      <th>2</th>\n",
       "      <td>2020-03-02</td>\n",
       "      <td>Afghanistan</td>\n",
       "      <td>0</td>\n",
       "      <td>0</td>\n",
       "      <td>AF</td>\n",
       "      <td>NaN</td>\n",
       "      <td>Non-EU/EEA</td>\n",
       "    </tr>\n",
       "    <tr>\n",
       "      <th>3</th>\n",
       "      <td>2020-03-01</td>\n",
       "      <td>Afghanistan</td>\n",
       "      <td>0</td>\n",
       "      <td>0</td>\n",
       "      <td>AF</td>\n",
       "      <td>NaN</td>\n",
       "      <td>Non-EU/EEA</td>\n",
       "    </tr>\n",
       "    <tr>\n",
       "      <th>4</th>\n",
       "      <td>2020-02-29</td>\n",
       "      <td>Afghanistan</td>\n",
       "      <td>0</td>\n",
       "      <td>0</td>\n",
       "      <td>AF</td>\n",
       "      <td>NaN</td>\n",
       "      <td>Non-EU/EEA</td>\n",
       "    </tr>\n",
       "  </tbody>\n",
       "</table>\n",
       "</div>"
      ],
      "text/plain": [
       "     DateRep   CountryExp  NewConfCases  NewDeaths GeoId Gaul1Nuts1  \\\n",
       "0 2020-03-11  Afghanistan             3          0    AF        NaN   \n",
       "1 2020-03-08  Afghanistan             3          0    AF        NaN   \n",
       "2 2020-03-02  Afghanistan             0          0    AF        NaN   \n",
       "3 2020-03-01  Afghanistan             0          0    AF        NaN   \n",
       "4 2020-02-29  Afghanistan             0          0    AF        NaN   \n",
       "\n",
       "           EU  \n",
       "0  Non-EU/EEA  \n",
       "1  Non-EU/EEA  \n",
       "2  Non-EU/EEA  \n",
       "3  Non-EU/EEA  \n",
       "4  Non-EU/EEA  "
      ]
     },
     "execution_count": 8,
     "metadata": {},
     "output_type": "execute_result"
    }
   ],
   "source": [
    "covid19_data.head()"
   ]
  },
  {
   "cell_type": "code",
   "execution_count": 9,
   "metadata": {},
   "outputs": [
    {
     "data": {
      "text/plain": [
       "DateRep         datetime64[ns]\n",
       "CountryExp              object\n",
       "NewConfCases             int64\n",
       "NewDeaths                int64\n",
       "GeoId                   object\n",
       "Gaul1Nuts1              object\n",
       "EU                      object\n",
       "dtype: object"
      ]
     },
     "execution_count": 9,
     "metadata": {},
     "output_type": "execute_result"
    }
   ],
   "source": [
    "covid19_data.dtypes"
   ]
  },
  {
   "cell_type": "code",
   "execution_count": 10,
   "metadata": {},
   "outputs": [
    {
     "data": {
      "text/plain": [
       "(5001, 7)"
      ]
     },
     "execution_count": 10,
     "metadata": {},
     "output_type": "execute_result"
    }
   ],
   "source": [
    "covid19_data.shape"
   ]
  },
  {
   "cell_type": "code",
   "execution_count": 11,
   "metadata": {},
   "outputs": [
    {
     "data": {
      "text/plain": [
       "DateRep            0\n",
       "CountryExp         0\n",
       "NewConfCases       0\n",
       "NewDeaths          0\n",
       "GeoId              0\n",
       "Gaul1Nuts1      4509\n",
       "EU                 0\n",
       "dtype: int64"
      ]
     },
     "execution_count": 11,
     "metadata": {},
     "output_type": "execute_result"
    }
   ],
   "source": [
    "# Checking for nulls\n",
    "covid19_data.isnull().sum()"
   ]
  },
  {
   "cell_type": "code",
   "execution_count": 12,
   "metadata": {
    "scrolled": true
   },
   "outputs": [
    {
     "data": {
      "text/html": [
       "<div>\n",
       "<style scoped>\n",
       "    .dataframe tbody tr th:only-of-type {\n",
       "        vertical-align: middle;\n",
       "    }\n",
       "\n",
       "    .dataframe tbody tr th {\n",
       "        vertical-align: top;\n",
       "    }\n",
       "\n",
       "    .dataframe thead th {\n",
       "        text-align: right;\n",
       "    }\n",
       "</style>\n",
       "<table border=\"1\" class=\"dataframe\">\n",
       "  <thead>\n",
       "    <tr style=\"text-align: right;\">\n",
       "      <th></th>\n",
       "      <th>DateRep</th>\n",
       "      <th>CountryExp</th>\n",
       "      <th>NewConfCases</th>\n",
       "      <th>NewDeaths</th>\n",
       "      <th>GeoId</th>\n",
       "      <th>Gaul1Nuts1</th>\n",
       "      <th>EU</th>\n",
       "    </tr>\n",
       "  </thead>\n",
       "  <tbody>\n",
       "    <tr>\n",
       "      <th>887</th>\n",
       "      <td>2020-03-10</td>\n",
       "      <td>Cases on an international conveyance Japan</td>\n",
       "      <td>-9</td>\n",
       "      <td>1</td>\n",
       "      <td>JPG11668</td>\n",
       "      <td>JPG11668</td>\n",
       "      <td>0</td>\n",
       "    </tr>\n",
       "    <tr>\n",
       "      <th>888</th>\n",
       "      <td>2020-03-02</td>\n",
       "      <td>Cases on an international conveyance Japan</td>\n",
       "      <td>0</td>\n",
       "      <td>0</td>\n",
       "      <td>JPG11668</td>\n",
       "      <td>JPG11668</td>\n",
       "      <td>0</td>\n",
       "    </tr>\n",
       "    <tr>\n",
       "      <th>889</th>\n",
       "      <td>2020-03-01</td>\n",
       "      <td>Cases on an international conveyance Japan</td>\n",
       "      <td>0</td>\n",
       "      <td>0</td>\n",
       "      <td>JPG11668</td>\n",
       "      <td>JPG11668</td>\n",
       "      <td>0</td>\n",
       "    </tr>\n",
       "    <tr>\n",
       "      <th>890</th>\n",
       "      <td>2020-02-29</td>\n",
       "      <td>Cases on an international conveyance Japan</td>\n",
       "      <td>0</td>\n",
       "      <td>2</td>\n",
       "      <td>JPG11668</td>\n",
       "      <td>JPG11668</td>\n",
       "      <td>0</td>\n",
       "    </tr>\n",
       "    <tr>\n",
       "      <th>891</th>\n",
       "      <td>2020-02-28</td>\n",
       "      <td>Cases on an international conveyance Japan</td>\n",
       "      <td>0</td>\n",
       "      <td>0</td>\n",
       "      <td>JPG11668</td>\n",
       "      <td>JPG11668</td>\n",
       "      <td>0</td>\n",
       "    </tr>\n",
       "  </tbody>\n",
       "</table>\n",
       "</div>"
      ],
      "text/plain": [
       "       DateRep                                  CountryExp  NewConfCases  \\\n",
       "887 2020-03-10  Cases on an international conveyance Japan            -9   \n",
       "888 2020-03-02  Cases on an international conveyance Japan             0   \n",
       "889 2020-03-01  Cases on an international conveyance Japan             0   \n",
       "890 2020-02-29  Cases on an international conveyance Japan             0   \n",
       "891 2020-02-28  Cases on an international conveyance Japan             0   \n",
       "\n",
       "     NewDeaths     GeoId Gaul1Nuts1 EU  \n",
       "887          1  JPG11668   JPG11668  0  \n",
       "888          0  JPG11668   JPG11668  0  \n",
       "889          0  JPG11668   JPG11668  0  \n",
       "890          2  JPG11668   JPG11668  0  \n",
       "891          0  JPG11668   JPG11668  0  "
      ]
     },
     "execution_count": 12,
     "metadata": {},
     "output_type": "execute_result"
    }
   ],
   "source": [
    "# Don't know what this feature is so it doesn't matter for now\n",
    "covid19_data[~covid19_data.Gaul1Nuts1.isnull()].head()"
   ]
  },
  {
   "cell_type": "markdown",
   "metadata": {},
   "source": [
    "## Prepare Data"
   ]
  },
  {
   "cell_type": "code",
   "execution_count": 13,
   "metadata": {},
   "outputs": [],
   "source": [
    "# Set datetime index\n",
    "covid19_data.set_index('DateRep', inplace=True)"
   ]
  },
  {
   "cell_type": "code",
   "execution_count": 14,
   "metadata": {
    "scrolled": true
   },
   "outputs": [
    {
     "data": {
      "text/html": [
       "<div>\n",
       "<style scoped>\n",
       "    .dataframe tbody tr th:only-of-type {\n",
       "        vertical-align: middle;\n",
       "    }\n",
       "\n",
       "    .dataframe tbody tr th {\n",
       "        vertical-align: top;\n",
       "    }\n",
       "\n",
       "    .dataframe thead th {\n",
       "        text-align: right;\n",
       "    }\n",
       "</style>\n",
       "<table border=\"1\" class=\"dataframe\">\n",
       "  <thead>\n",
       "    <tr style=\"text-align: right;\">\n",
       "      <th></th>\n",
       "      <th>CountryExp</th>\n",
       "      <th>NewConfCases</th>\n",
       "      <th>NewDeaths</th>\n",
       "      <th>GeoId</th>\n",
       "      <th>Gaul1Nuts1</th>\n",
       "      <th>EU</th>\n",
       "    </tr>\n",
       "    <tr>\n",
       "      <th>DateRep</th>\n",
       "      <th></th>\n",
       "      <th></th>\n",
       "      <th></th>\n",
       "      <th></th>\n",
       "      <th></th>\n",
       "      <th></th>\n",
       "    </tr>\n",
       "  </thead>\n",
       "  <tbody>\n",
       "    <tr>\n",
       "      <th>2020-03-11</th>\n",
       "      <td>Afghanistan</td>\n",
       "      <td>3</td>\n",
       "      <td>0</td>\n",
       "      <td>AF</td>\n",
       "      <td>NaN</td>\n",
       "      <td>Non-EU/EEA</td>\n",
       "    </tr>\n",
       "    <tr>\n",
       "      <th>2020-03-08</th>\n",
       "      <td>Afghanistan</td>\n",
       "      <td>3</td>\n",
       "      <td>0</td>\n",
       "      <td>AF</td>\n",
       "      <td>NaN</td>\n",
       "      <td>Non-EU/EEA</td>\n",
       "    </tr>\n",
       "    <tr>\n",
       "      <th>2020-03-02</th>\n",
       "      <td>Afghanistan</td>\n",
       "      <td>0</td>\n",
       "      <td>0</td>\n",
       "      <td>AF</td>\n",
       "      <td>NaN</td>\n",
       "      <td>Non-EU/EEA</td>\n",
       "    </tr>\n",
       "    <tr>\n",
       "      <th>2020-03-01</th>\n",
       "      <td>Afghanistan</td>\n",
       "      <td>0</td>\n",
       "      <td>0</td>\n",
       "      <td>AF</td>\n",
       "      <td>NaN</td>\n",
       "      <td>Non-EU/EEA</td>\n",
       "    </tr>\n",
       "    <tr>\n",
       "      <th>2020-02-29</th>\n",
       "      <td>Afghanistan</td>\n",
       "      <td>0</td>\n",
       "      <td>0</td>\n",
       "      <td>AF</td>\n",
       "      <td>NaN</td>\n",
       "      <td>Non-EU/EEA</td>\n",
       "    </tr>\n",
       "  </tbody>\n",
       "</table>\n",
       "</div>"
      ],
      "text/plain": [
       "             CountryExp  NewConfCases  NewDeaths GeoId Gaul1Nuts1          EU\n",
       "DateRep                                                                      \n",
       "2020-03-11  Afghanistan             3          0    AF        NaN  Non-EU/EEA\n",
       "2020-03-08  Afghanistan             3          0    AF        NaN  Non-EU/EEA\n",
       "2020-03-02  Afghanistan             0          0    AF        NaN  Non-EU/EEA\n",
       "2020-03-01  Afghanistan             0          0    AF        NaN  Non-EU/EEA\n",
       "2020-02-29  Afghanistan             0          0    AF        NaN  Non-EU/EEA"
      ]
     },
     "execution_count": 14,
     "metadata": {},
     "output_type": "execute_result"
    }
   ],
   "source": [
    "covid19_data.head()"
   ]
  },
  {
   "cell_type": "code",
   "execution_count": 15,
   "metadata": {},
   "outputs": [],
   "source": [
    "covid19_data.sort_index(inplace=True)"
   ]
  },
  {
   "cell_type": "code",
   "execution_count": 16,
   "metadata": {},
   "outputs": [],
   "source": [
    "# Group by country\n",
    "groupcols = ['CountryExp']"
   ]
  },
  {
   "cell_type": "code",
   "execution_count": 17,
   "metadata": {},
   "outputs": [],
   "source": [
    "# Create cumulative features\n",
    "covid19_data['NewConfCases_cum'] = covid19_data.groupby(groupcols)['NewConfCases'].cumsum()\n",
    "covid19_data['NewDeaths_cum'] = covid19_data.groupby(groupcols)['NewDeaths'].cumsum()"
   ]
  },
  {
   "cell_type": "code",
   "execution_count": 18,
   "metadata": {},
   "outputs": [
    {
     "data": {
      "text/plain": [
       "array(['Vietnam', 'Sri Lanka'], dtype=object)"
      ]
     },
     "execution_count": 18,
     "metadata": {},
     "output_type": "execute_result"
    }
   ],
   "source": [
    "covid19_data.CountryExp.unique()[:2]"
   ]
  },
  {
   "cell_type": "code",
   "execution_count": 19,
   "metadata": {},
   "outputs": [
    {
     "data": {
      "text/html": [
       "<div>\n",
       "<style scoped>\n",
       "    .dataframe tbody tr th:only-of-type {\n",
       "        vertical-align: middle;\n",
       "    }\n",
       "\n",
       "    .dataframe tbody tr th {\n",
       "        vertical-align: top;\n",
       "    }\n",
       "\n",
       "    .dataframe thead th {\n",
       "        text-align: right;\n",
       "    }\n",
       "</style>\n",
       "<table border=\"1\" class=\"dataframe\">\n",
       "  <thead>\n",
       "    <tr style=\"text-align: right;\">\n",
       "      <th></th>\n",
       "      <th>CountryExp</th>\n",
       "      <th>NewConfCases</th>\n",
       "      <th>NewDeaths</th>\n",
       "      <th>GeoId</th>\n",
       "      <th>Gaul1Nuts1</th>\n",
       "      <th>EU</th>\n",
       "      <th>NewConfCases_cum</th>\n",
       "      <th>NewDeaths_cum</th>\n",
       "    </tr>\n",
       "    <tr>\n",
       "      <th>DateRep</th>\n",
       "      <th></th>\n",
       "      <th></th>\n",
       "      <th></th>\n",
       "      <th></th>\n",
       "      <th></th>\n",
       "      <th></th>\n",
       "      <th></th>\n",
       "      <th></th>\n",
       "    </tr>\n",
       "  </thead>\n",
       "  <tbody>\n",
       "    <tr>\n",
       "      <th>2020-03-01</th>\n",
       "      <td>Afghanistan</td>\n",
       "      <td>0</td>\n",
       "      <td>0</td>\n",
       "      <td>AF</td>\n",
       "      <td>NaN</td>\n",
       "      <td>Non-EU/EEA</td>\n",
       "      <td>1</td>\n",
       "      <td>0</td>\n",
       "    </tr>\n",
       "    <tr>\n",
       "      <th>2020-03-02</th>\n",
       "      <td>Afghanistan</td>\n",
       "      <td>0</td>\n",
       "      <td>0</td>\n",
       "      <td>AF</td>\n",
       "      <td>NaN</td>\n",
       "      <td>Non-EU/EEA</td>\n",
       "      <td>1</td>\n",
       "      <td>0</td>\n",
       "    </tr>\n",
       "    <tr>\n",
       "      <th>2020-03-08</th>\n",
       "      <td>Afghanistan</td>\n",
       "      <td>3</td>\n",
       "      <td>0</td>\n",
       "      <td>AF</td>\n",
       "      <td>NaN</td>\n",
       "      <td>Non-EU/EEA</td>\n",
       "      <td>4</td>\n",
       "      <td>0</td>\n",
       "    </tr>\n",
       "    <tr>\n",
       "      <th>2020-03-09</th>\n",
       "      <td>Albania</td>\n",
       "      <td>2</td>\n",
       "      <td>0</td>\n",
       "      <td>AL</td>\n",
       "      <td>NaN</td>\n",
       "      <td>EU Candidate</td>\n",
       "      <td>2</td>\n",
       "      <td>0</td>\n",
       "    </tr>\n",
       "    <tr>\n",
       "      <th>2020-03-10</th>\n",
       "      <td>Albania</td>\n",
       "      <td>4</td>\n",
       "      <td>0</td>\n",
       "      <td>AL</td>\n",
       "      <td>NaN</td>\n",
       "      <td>EU Candidate</td>\n",
       "      <td>6</td>\n",
       "      <td>0</td>\n",
       "    </tr>\n",
       "    <tr>\n",
       "      <th>2020-03-11</th>\n",
       "      <td>Albania</td>\n",
       "      <td>4</td>\n",
       "      <td>0</td>\n",
       "      <td>AL</td>\n",
       "      <td>NaN</td>\n",
       "      <td>EU Candidate</td>\n",
       "      <td>10</td>\n",
       "      <td>0</td>\n",
       "    </tr>\n",
       "    <tr>\n",
       "      <th>2020-03-11</th>\n",
       "      <td>Afghanistan</td>\n",
       "      <td>3</td>\n",
       "      <td>0</td>\n",
       "      <td>AF</td>\n",
       "      <td>NaN</td>\n",
       "      <td>Non-EU/EEA</td>\n",
       "      <td>7</td>\n",
       "      <td>0</td>\n",
       "    </tr>\n",
       "    <tr>\n",
       "      <th>2020-03-12</th>\n",
       "      <td>Albania</td>\n",
       "      <td>1</td>\n",
       "      <td>1</td>\n",
       "      <td>AL</td>\n",
       "      <td>NaN</td>\n",
       "      <td>EU Candidate</td>\n",
       "      <td>11</td>\n",
       "      <td>1</td>\n",
       "    </tr>\n",
       "    <tr>\n",
       "      <th>2020-03-13</th>\n",
       "      <td>Albania</td>\n",
       "      <td>12</td>\n",
       "      <td>0</td>\n",
       "      <td>AL</td>\n",
       "      <td>NaN</td>\n",
       "      <td>EU Candidate</td>\n",
       "      <td>23</td>\n",
       "      <td>1</td>\n",
       "    </tr>\n",
       "    <tr>\n",
       "      <th>2020-03-14</th>\n",
       "      <td>Albania</td>\n",
       "      <td>10</td>\n",
       "      <td>0</td>\n",
       "      <td>AL</td>\n",
       "      <td>NaN</td>\n",
       "      <td>EU Candidate</td>\n",
       "      <td>33</td>\n",
       "      <td>1</td>\n",
       "    </tr>\n",
       "  </tbody>\n",
       "</table>\n",
       "</div>"
      ],
      "text/plain": [
       "             CountryExp  NewConfCases  NewDeaths GeoId Gaul1Nuts1  \\\n",
       "DateRep                                                             \n",
       "2020-03-01  Afghanistan             0          0    AF        NaN   \n",
       "2020-03-02  Afghanistan             0          0    AF        NaN   \n",
       "2020-03-08  Afghanistan             3          0    AF        NaN   \n",
       "2020-03-09      Albania             2          0    AL        NaN   \n",
       "2020-03-10      Albania             4          0    AL        NaN   \n",
       "2020-03-11      Albania             4          0    AL        NaN   \n",
       "2020-03-11  Afghanistan             3          0    AF        NaN   \n",
       "2020-03-12      Albania             1          1    AL        NaN   \n",
       "2020-03-13      Albania            12          0    AL        NaN   \n",
       "2020-03-14      Albania            10          0    AL        NaN   \n",
       "\n",
       "                      EU  NewConfCases_cum  NewDeaths_cum  \n",
       "DateRep                                                    \n",
       "2020-03-01    Non-EU/EEA                 1              0  \n",
       "2020-03-02    Non-EU/EEA                 1              0  \n",
       "2020-03-08    Non-EU/EEA                 4              0  \n",
       "2020-03-09  EU Candidate                 2              0  \n",
       "2020-03-10  EU Candidate                 6              0  \n",
       "2020-03-11  EU Candidate                10              0  \n",
       "2020-03-11    Non-EU/EEA                 7              0  \n",
       "2020-03-12  EU Candidate                11              1  \n",
       "2020-03-13  EU Candidate                23              1  \n",
       "2020-03-14  EU Candidate                33              1  "
      ]
     },
     "execution_count": 19,
     "metadata": {},
     "output_type": "execute_result"
    }
   ],
   "source": [
    "# Checks\n",
    "covid19_data[covid19_data['CountryExp'].isin(['Afghanistan', 'Albania'])].tail(10)"
   ]
  },
  {
   "cell_type": "markdown",
   "metadata": {},
   "source": [
    "## Plot exploration"
   ]
  },
  {
   "cell_type": "markdown",
   "metadata": {},
   "source": [
    "### Plot cases confirmed by date"
   ]
  },
  {
   "cell_type": "code",
   "execution_count": 20,
   "metadata": {},
   "outputs": [],
   "source": [
    "covid19_data_bydate = covid19_data.groupby(covid19_data.index)['NewConfCases'].sum()"
   ]
  },
  {
   "cell_type": "code",
   "execution_count": 21,
   "metadata": {},
   "outputs": [
    {
     "data": {
      "text/plain": [
       "<matplotlib.axes._subplots.AxesSubplot at 0x29f8f3280b8>"
      ]
     },
     "execution_count": 21,
     "metadata": {},
     "output_type": "execute_result"
    },
    {
     "data": {
      "image/png": "[encoded data removed]",
      "text/plain": [
       "<Figure size 432x288 with 1 Axes>"
      ]
     },
     "metadata": {
      "needs_background": "light"
     },
     "output_type": "display_data"
    }
   ],
   "source": [
    "covid19_data_bydate.plot()"
   ]
  },
  {
   "cell_type": "code",
   "execution_count": 22,
   "metadata": {},
   "outputs": [
    {
     "data": {
      "text/html": [
       "<div>\n",
       "<style scoped>\n",
       "    .dataframe tbody tr th:only-of-type {\n",
       "        vertical-align: middle;\n",
       "    }\n",
       "\n",
       "    .dataframe tbody tr th {\n",
       "        vertical-align: top;\n",
       "    }\n",
       "\n",
       "    .dataframe thead th {\n",
       "        text-align: right;\n",
       "    }\n",
       "</style>\n",
       "<table border=\"1\" class=\"dataframe\">\n",
       "  <thead>\n",
       "    <tr style=\"text-align: right;\">\n",
       "      <th></th>\n",
       "      <th>CountryExp</th>\n",
       "      <th>NewConfCases</th>\n",
       "      <th>NewDeaths</th>\n",
       "      <th>GeoId</th>\n",
       "      <th>Gaul1Nuts1</th>\n",
       "      <th>EU</th>\n",
       "      <th>NewConfCases_cum</th>\n",
       "      <th>NewDeaths_cum</th>\n",
       "    </tr>\n",
       "    <tr>\n",
       "      <th>DateRep</th>\n",
       "      <th></th>\n",
       "      <th></th>\n",
       "      <th></th>\n",
       "      <th></th>\n",
       "      <th></th>\n",
       "      <th></th>\n",
       "      <th></th>\n",
       "      <th></th>\n",
       "    </tr>\n",
       "  </thead>\n",
       "  <tbody>\n",
       "    <tr>\n",
       "      <th>2020-02-13</th>\n",
       "      <td>China</td>\n",
       "      <td>15141</td>\n",
       "      <td>254</td>\n",
       "      <td>CN</td>\n",
       "      <td>NaN</td>\n",
       "      <td>Non-EU/EEA</td>\n",
       "      <td>59865</td>\n",
       "      <td>1368</td>\n",
       "    </tr>\n",
       "  </tbody>\n",
       "</table>\n",
       "</div>"
      ],
      "text/plain": [
       "           CountryExp  NewConfCases  NewDeaths GeoId Gaul1Nuts1          EU  \\\n",
       "DateRep                                                                       \n",
       "2020-02-13      China         15141        254    CN        NaN  Non-EU/EEA   \n",
       "\n",
       "            NewConfCases_cum  NewDeaths_cum  \n",
       "DateRep                                      \n",
       "2020-02-13             59865           1368  "
      ]
     },
     "execution_count": 22,
     "metadata": {},
     "output_type": "execute_result"
    }
   ],
   "source": [
    "# Huge peak in February\n",
    "covid19_data[covid19_data['NewConfCases'] >= 12000]"
   ]
  },
  {
   "cell_type": "code",
   "execution_count": 23,
   "metadata": {
    "scrolled": true
   },
   "outputs": [
    {
     "data": {
      "text/html": [
       "<div>\n",
       "<style scoped>\n",
       "    .dataframe tbody tr th:only-of-type {\n",
       "        vertical-align: middle;\n",
       "    }\n",
       "\n",
       "    .dataframe tbody tr th {\n",
       "        vertical-align: top;\n",
       "    }\n",
       "\n",
       "    .dataframe thead th {\n",
       "        text-align: right;\n",
       "    }\n",
       "</style>\n",
       "<table border=\"1\" class=\"dataframe\">\n",
       "  <thead>\n",
       "    <tr style=\"text-align: right;\">\n",
       "      <th></th>\n",
       "      <th>CountryExp</th>\n",
       "      <th>NewConfCases</th>\n",
       "      <th>NewDeaths</th>\n",
       "      <th>GeoId</th>\n",
       "      <th>Gaul1Nuts1</th>\n",
       "      <th>EU</th>\n",
       "      <th>NewConfCases_cum</th>\n",
       "      <th>NewDeaths_cum</th>\n",
       "    </tr>\n",
       "    <tr>\n",
       "      <th>DateRep</th>\n",
       "      <th></th>\n",
       "      <th></th>\n",
       "      <th></th>\n",
       "      <th></th>\n",
       "      <th></th>\n",
       "      <th></th>\n",
       "      <th></th>\n",
       "      <th></th>\n",
       "    </tr>\n",
       "  </thead>\n",
       "  <tbody>\n",
       "    <tr>\n",
       "      <th>2020-02-13</th>\n",
       "      <td>China</td>\n",
       "      <td>15141</td>\n",
       "      <td>254</td>\n",
       "      <td>CN</td>\n",
       "      <td>NaN</td>\n",
       "      <td>Non-EU/EEA</td>\n",
       "      <td>59865</td>\n",
       "      <td>1368</td>\n",
       "    </tr>\n",
       "    <tr>\n",
       "      <th>2020-02-13</th>\n",
       "      <td>Japan</td>\n",
       "      <td>4</td>\n",
       "      <td>1</td>\n",
       "      <td>JP</td>\n",
       "      <td>NaN</td>\n",
       "      <td>Non-EU/EEA</td>\n",
       "      <td>29</td>\n",
       "      <td>1</td>\n",
       "    </tr>\n",
       "    <tr>\n",
       "      <th>2020-02-13</th>\n",
       "      <td>Singapore</td>\n",
       "      <td>3</td>\n",
       "      <td>0</td>\n",
       "      <td>SG</td>\n",
       "      <td>NaN</td>\n",
       "      <td>Non-EU/EEA</td>\n",
       "      <td>50</td>\n",
       "      <td>0</td>\n",
       "    </tr>\n",
       "    <tr>\n",
       "      <th>2020-02-13</th>\n",
       "      <td>Vietnam</td>\n",
       "      <td>1</td>\n",
       "      <td>0</td>\n",
       "      <td>VN</td>\n",
       "      <td>NaN</td>\n",
       "      <td>Non-EU/EEA</td>\n",
       "      <td>16</td>\n",
       "      <td>0</td>\n",
       "    </tr>\n",
       "    <tr>\n",
       "      <th>2020-02-13</th>\n",
       "      <td>United States of America</td>\n",
       "      <td>1</td>\n",
       "      <td>0</td>\n",
       "      <td>US</td>\n",
       "      <td>NaN</td>\n",
       "      <td>Non-EU/EEA</td>\n",
       "      <td>14</td>\n",
       "      <td>0</td>\n",
       "    </tr>\n",
       "  </tbody>\n",
       "</table>\n",
       "</div>"
      ],
      "text/plain": [
       "                          CountryExp  NewConfCases  NewDeaths GeoId  \\\n",
       "DateRep                                                               \n",
       "2020-02-13                     China         15141        254    CN   \n",
       "2020-02-13                     Japan             4          1    JP   \n",
       "2020-02-13                 Singapore             3          0    SG   \n",
       "2020-02-13                   Vietnam             1          0    VN   \n",
       "2020-02-13  United States of America             1          0    US   \n",
       "\n",
       "           Gaul1Nuts1          EU  NewConfCases_cum  NewDeaths_cum  \n",
       "DateRep                                                             \n",
       "2020-02-13        NaN  Non-EU/EEA             59865           1368  \n",
       "2020-02-13        NaN  Non-EU/EEA                29              1  \n",
       "2020-02-13        NaN  Non-EU/EEA                50              0  \n",
       "2020-02-13        NaN  Non-EU/EEA                16              0  \n",
       "2020-02-13        NaN  Non-EU/EEA                14              0  "
      ]
     },
     "execution_count": 23,
     "metadata": {},
     "output_type": "execute_result"
    }
   ],
   "source": [
    "covid19_data[covid19_data.index == '2020-02-13'].sort_values('NewConfCases', ascending=False).head()"
   ]
  },
  {
   "cell_type": "code",
   "execution_count": 24,
   "metadata": {},
   "outputs": [],
   "source": [
    "# Because China has a different scale I'm separating it\n",
    "covid19_data_china = covid19_data[covid19_data['CountryExp'] == 'China']\n",
    "covid19_data_nonchina = covid19_data[covid19_data['CountryExp'] != 'China']"
   ]
  },
  {
   "cell_type": "markdown",
   "metadata": {},
   "source": [
    "#### China "
   ]
  },
  {
   "cell_type": "code",
   "execution_count": 25,
   "metadata": {
    "scrolled": true
   },
   "outputs": [
    {
     "data": {
      "text/plain": [
       "<matplotlib.axes._subplots.AxesSubplot at 0x29f8f267048>"
      ]
     },
     "execution_count": 25,
     "metadata": {},
     "output_type": "execute_result"
    },
    {
     "data": {
      "image/png": "[encoded data removed]",
      "text/plain": [
       "<Figure size 432x288 with 1 Axes>"
      ]
     },
     "metadata": {
      "needs_background": "light"
     },
     "output_type": "display_data"
    }
   ],
   "source": [
    "covid19_data_bydate_china = covid19_data_china.groupby(covid19_data_china.index)['NewConfCases'].sum()\n",
    "covid19_data_bydate_china.plot()"
   ]
  },
  {
   "cell_type": "markdown",
   "metadata": {},
   "source": [
    "#### Non China"
   ]
  },
  {
   "cell_type": "code",
   "execution_count": 26,
   "metadata": {
    "scrolled": true
   },
   "outputs": [
    {
     "data": {
      "text/plain": [
       "<matplotlib.axes._subplots.AxesSubplot at 0x29f9150d208>"
      ]
     },
     "execution_count": 26,
     "metadata": {},
     "output_type": "execute_result"
    },
    {
     "data": {
      "image/png": "[encoded data removed]",
      "text/plain": [
       "<Figure size 432x288 with 1 Axes>"
      ]
     },
     "metadata": {
      "needs_background": "light"
     },
     "output_type": "display_data"
    }
   ],
   "source": [
    "covid19_data_bydate_nonchina = covid19_data_nonchina.groupby(covid19_data_nonchina.index)['NewConfCases'].sum()\n",
    "covid19_data_bydate_nonchina.plot()"
   ]
  },
  {
   "cell_type": "markdown",
   "metadata": {},
   "source": [
    "While China seems to have passed the worst phase of the disease, the rest of the countries seem to be entering it"
   ]
  },
  {
   "cell_type": "markdown",
   "metadata": {},
   "source": [
    "#### Countries worst infected"
   ]
  },
  {
   "cell_type": "code",
   "execution_count": 72,
   "metadata": {},
   "outputs": [
    {
     "data": {
      "text/plain": [
       "CountryExp\n",
       "Italy                                         17660\n",
       "Iran                                          11364\n",
       "South Korea                                    8086\n",
       "Spain                                          4231\n",
       "France                                         3661\n",
       "Germany                                        3062\n",
       "United States of America                       2174\n",
       "Switzerland                                     854\n",
       "Denmark                                         804\n",
       "Netherlands                                     804\n",
       "Sweden                                          775\n",
       "Japan                                           737\n",
       "Cases on an international conveyance Japan      696\n",
       "United Kingdom                                  624\n",
       "Norway                                          621\n",
       "Name: NewConfCases, dtype: int64"
      ]
     },
     "execution_count": 72,
     "metadata": {},
     "output_type": "execute_result"
    }
   ],
   "source": [
    "countries_worst = covid19_data_nonchina.groupby(['CountryExp'])['NewConfCases'].sum().sort_values(ascending=False).head(15).index\n",
    "covid19_data_nonchina.groupby(['CountryExp'])['NewConfCases'].sum().sort_values(ascending=False).head(15)"
   ]
  },
  {
   "cell_type": "code",
   "execution_count": 73,
   "metadata": {},
   "outputs": [
    {
     "data": {
      "text/plain": [
       "<matplotlib.legend.Legend at 0x29f946f96a0>"
      ]
     },
     "execution_count": 73,
     "metadata": {},
     "output_type": "execute_result"
    },
    {
     "data": {
      "image/png": "[encoded data removed]",
      "text/plain": [
       "<Figure size 432x288 with 1 Axes>"
      ]
     },
     "metadata": {
      "needs_background": "light"
     },
     "output_type": "display_data"
    }
   ],
   "source": [
    "for i, country in enumerate(countries_worst): \n",
    "    data = covid19_data_nonchina[covid19_data_nonchina['CountryExp'] == country].groupby(covid19_data_nonchina[covid19_data_nonchina['CountryExp'] == country].index)['NewConfCases'].sum()\n",
    "    plt.plot(data, label=country)\n",
    "    if i == 5:\n",
    "        break\n",
    "plt.legend()"
   ]
  },
  {
   "cell_type": "markdown",
   "metadata": {},
   "source": [
    "South Korea seems to be handling it different."
   ]
  },
  {
   "cell_type": "markdown",
   "metadata": {},
   "source": [
    "## Contagion trend evolution analysis"
   ]
  },
  {
   "cell_type": "markdown",
   "metadata": {},
   "source": [
    "### Plot cumulative features"
   ]
  },
  {
   "cell_type": "code",
   "execution_count": 31,
   "metadata": {
    "scrolled": true
   },
   "outputs": [
    {
     "data": {
      "text/plain": [
       "<matplotlib.axes._subplots.AxesSubplot at 0x29f927baba8>"
      ]
     },
     "execution_count": 31,
     "metadata": {},
     "output_type": "execute_result"
    },
    {
     "data": {
      "image/png": "[encoded data removed]",
      "text/plain": [
       "<Figure size 432x288 with 1 Axes>"
      ]
     },
     "metadata": {
      "needs_background": "light"
     },
     "output_type": "display_data"
    }
   ],
   "source": [
    "country_filter = 'China'\n",
    "covid19_data[covid19_data['CountryExp'] == country_filter]['NewConfCases_cum'].plot()"
   ]
  },
  {
   "cell_type": "markdown",
   "metadata": {},
   "source": [
    "China is entering a stationary phase"
   ]
  },
  {
   "cell_type": "code",
   "execution_count": 71,
   "metadata": {},
   "outputs": [
    {
     "data": {
      "text/plain": [
       "Index(['Italy', 'Iran', 'South Korea', 'Spain', 'France'], dtype='object', name='CountryExp')"
      ]
     },
     "execution_count": 71,
     "metadata": {},
     "output_type": "execute_result"
    }
   ],
   "source": [
    "countries_worst"
   ]
  },
  {
   "cell_type": "code",
   "execution_count": 74,
   "metadata": {},
   "outputs": [
    {
     "data": {
      "text/plain": [
       "<matplotlib.legend.Legend at 0x29f9477e6d8>"
      ]
     },
     "execution_count": 74,
     "metadata": {},
     "output_type": "execute_result"
    },
    {
     "data": {
      "image/png": "[encoded data removed]",
      "text/plain": [
       "<Figure size 432x288 with 1 Axes>"
      ]
     },
     "metadata": {
      "needs_background": "light"
     },
     "output_type": "display_data"
    }
   ],
   "source": [
    "for i, country in enumerate(countries_worst): \n",
    "    plt.plot(covid19_data[covid19_data['CountryExp'] == country]['NewConfCases_cum'], label=country)\n",
    "    if i == 10:\n",
    "        break\n",
    "plt.legend()"
   ]
  },
  {
   "cell_type": "markdown",
   "metadata": {},
   "source": [
    "Other countries (non China) seem to be still raising. South Korea has a different behaviour - ? "
   ]
  },
  {
   "cell_type": "markdown",
   "metadata": {},
   "source": [
    "# Export"
   ]
  },
  {
   "cell_type": "code",
   "execution_count": 64,
   "metadata": {},
   "outputs": [],
   "source": [
    "with open(os.path.join(PATH_ROOT_INTERIM_DATA,INTERIM_DATA_NAME), 'wb') as f:\n",
    "    pickle.dump(covid19_data, f)"
   ]
  }
 ],
 "metadata": {
  "kernelspec": {
   "display_name": "Python 3",
   "language": "python",
   "name": "python3"
  },
  "language_info": {
   "codemirror_mode": {
    "name": "ipython",
    "version": 3
   },
   "file_extension": ".py",
   "mimetype": "text/x-python",
   "name": "python",
   "nbconvert_exporter": "python",
   "pygments_lexer": "ipython3",
   "version": "3.6.4"
  }
 },
 "nbformat": 4,
 "nbformat_minor": 2
}
