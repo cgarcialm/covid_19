{
 "cells": [
  {
   "cell_type": "markdown",
   "metadata": {},
   "source": [
    "# Data Exploration of COVID-19\n",
    "14 March 2020\n",
    "\n",
    "Cecilia García López de Munain"
   ]
  },
  {
   "cell_type": "markdown",
   "metadata": {},
   "source": [
    "## Libraries"
   ]
  },
  {
   "cell_type": "code",
   "execution_count": 9,
   "metadata": {},
   "outputs": [],
   "source": [
    "import pandas as pd\n",
    "import numpy as np\n",
    "import os, sys\n",
    "import matplotlib.pyplot as plt\n",
    "import pickle"
   ]
  },
  {
   "cell_type": "markdown",
   "metadata": {},
   "source": [
    "## Parameters"
   ]
  },
  {
   "cell_type": "code",
   "execution_count": 3,
   "metadata": {},
   "outputs": [],
   "source": [
    "sys.path.append('./')"
   ]
  },
  {
   "cell_type": "code",
   "execution_count": 6,
   "metadata": {},
   "outputs": [],
   "source": [
    "PATH_ROOT_INTERIM_DATA = 'data\\\\interim'\n",
    "INTERIM_DATA_NAME = 'covid_19_data_cum'"
   ]
  },
  {
   "cell_type": "markdown",
   "metadata": {},
   "source": [
    "## Import Data"
   ]
  },
  {
   "cell_type": "code",
   "execution_count": 12,
   "metadata": {},
   "outputs": [],
   "source": [
    "covid19_data = pickle.load(open(os.path.join(PATH_ROOT_INTERIM_DATA,INTERIM_DATA_NAME), \"rb\" ))"
   ]
  },
  {
   "cell_type": "code",
   "execution_count": 14,
   "metadata": {},
   "outputs": [
    {
     "data": {
      "text/html": [
       "<div>\n",
       "<style scoped>\n",
       "    .dataframe tbody tr th:only-of-type {\n",
       "        vertical-align: middle;\n",
       "    }\n",
       "\n",
       "    .dataframe tbody tr th {\n",
       "        vertical-align: top;\n",
       "    }\n",
       "\n",
       "    .dataframe thead th {\n",
       "        text-align: right;\n",
       "    }\n",
       "</style>\n",
       "<table border=\"1\" class=\"dataframe\">\n",
       "  <thead>\n",
       "    <tr style=\"text-align: right;\">\n",
       "      <th></th>\n",
       "      <th>CountryExp</th>\n",
       "      <th>NewConfCases</th>\n",
       "      <th>NewDeaths</th>\n",
       "      <th>GeoId</th>\n",
       "      <th>Gaul1Nuts1</th>\n",
       "      <th>EU</th>\n",
       "      <th>NewConfCases_cum</th>\n",
       "      <th>NewDeaths_cum</th>\n",
       "    </tr>\n",
       "    <tr>\n",
       "      <th>DateRep</th>\n",
       "      <th></th>\n",
       "      <th></th>\n",
       "      <th></th>\n",
       "      <th></th>\n",
       "      <th></th>\n",
       "      <th></th>\n",
       "      <th></th>\n",
       "      <th></th>\n",
       "    </tr>\n",
       "  </thead>\n",
       "  <tbody>\n",
       "    <tr>\n",
       "      <th>2019-12-31</th>\n",
       "      <td>Vietnam</td>\n",
       "      <td>0</td>\n",
       "      <td>0</td>\n",
       "      <td>VN</td>\n",
       "      <td>NaN</td>\n",
       "      <td>Non-EU/EEA</td>\n",
       "      <td>0</td>\n",
       "      <td>0</td>\n",
       "    </tr>\n",
       "    <tr>\n",
       "      <th>2019-12-31</th>\n",
       "      <td>Sri Lanka</td>\n",
       "      <td>0</td>\n",
       "      <td>0</td>\n",
       "      <td>LK</td>\n",
       "      <td>NaN</td>\n",
       "      <td>Non-EU/EEA</td>\n",
       "      <td>0</td>\n",
       "      <td>0</td>\n",
       "    </tr>\n",
       "    <tr>\n",
       "      <th>2019-12-31</th>\n",
       "      <td>Cases on an international conveyance Japan</td>\n",
       "      <td>0</td>\n",
       "      <td>0</td>\n",
       "      <td>JPG11668</td>\n",
       "      <td>JPG11668</td>\n",
       "      <td>0</td>\n",
       "      <td>0</td>\n",
       "      <td>0</td>\n",
       "    </tr>\n",
       "    <tr>\n",
       "      <th>2019-12-31</th>\n",
       "      <td>Kuwait</td>\n",
       "      <td>0</td>\n",
       "      <td>0</td>\n",
       "      <td>KW</td>\n",
       "      <td>NaN</td>\n",
       "      <td>Non-EU/EEA</td>\n",
       "      <td>0</td>\n",
       "      <td>0</td>\n",
       "    </tr>\n",
       "    <tr>\n",
       "      <th>2019-12-31</th>\n",
       "      <td>Armenia</td>\n",
       "      <td>0</td>\n",
       "      <td>0</td>\n",
       "      <td>AM</td>\n",
       "      <td>NaN</td>\n",
       "      <td>Non-EU/EEA</td>\n",
       "      <td>0</td>\n",
       "      <td>0</td>\n",
       "    </tr>\n",
       "  </tbody>\n",
       "</table>\n",
       "</div>"
      ],
      "text/plain": [
       "                                            CountryExp  NewConfCases  \\\n",
       "DateRep                                                                \n",
       "2019-12-31                                     Vietnam             0   \n",
       "2019-12-31                                   Sri Lanka             0   \n",
       "2019-12-31  Cases on an international conveyance Japan             0   \n",
       "2019-12-31                                      Kuwait             0   \n",
       "2019-12-31                                     Armenia             0   \n",
       "\n",
       "            NewDeaths     GeoId Gaul1Nuts1          EU  NewConfCases_cum  \\\n",
       "DateRep                                                                    \n",
       "2019-12-31          0        VN        NaN  Non-EU/EEA                 0   \n",
       "2019-12-31          0        LK        NaN  Non-EU/EEA                 0   \n",
       "2019-12-31          0  JPG11668   JPG11668           0                 0   \n",
       "2019-12-31          0        KW        NaN  Non-EU/EEA                 0   \n",
       "2019-12-31          0        AM        NaN  Non-EU/EEA                 0   \n",
       "\n",
       "            NewDeaths_cum  \n",
       "DateRep                    \n",
       "2019-12-31              0  \n",
       "2019-12-31              0  \n",
       "2019-12-31              0  \n",
       "2019-12-31              0  \n",
       "2019-12-31              0  "
      ]
     },
     "execution_count": 14,
     "metadata": {},
     "output_type": "execute_result"
    }
   ],
   "source": [
    "covid19_data.head()"
   ]
  },
  {
   "cell_type": "code",
   "execution_count": 15,
   "metadata": {
    "scrolled": true
   },
   "outputs": [
    {
     "data": {
      "text/plain": [
       "array(['Vietnam', 'Sri Lanka',\n",
       "       'Cases on an international conveyance Japan', 'Kuwait', 'Armenia',\n",
       "       'Japan', 'Italy', 'Sweden', 'China', 'Israel', 'Switzerland',\n",
       "       'Ireland', 'Iraq', 'Taiwan', 'Croatia', 'Iran', 'Algeria',\n",
       "       'Indonesia', 'India', 'Thailand', 'Czech Republic', 'Iceland',\n",
       "       'Greece', 'United Arab Emirates', 'Denmark', 'Germany', 'Lebanon',\n",
       "       'Lithuania', 'Canada', 'Spain', 'Philippines', 'Azerbaijan',\n",
       "       'Bahrain', 'Pakistan', 'Romania', 'Oman', 'Russia', 'Belarus',\n",
       "       'Norway', 'North Macedonia', 'San Marino', 'Austria', 'Georgia',\n",
       "       'Nigeria', 'New Zealand', 'Netherlands', 'Singapore', 'Brazil',\n",
       "       'Nepal', 'Monaco', 'South Korea', 'Mexico', 'Australia',\n",
       "       'Cambodia', 'Malaysia', 'Luxembourg', 'Belgium', 'Afghanistan',\n",
       "       'Qatar', 'Estonia', 'Egypt', 'United States of America',\n",
       "       'Dominican Republic', 'Finland', 'United Kingdom', 'France',\n",
       "       'Ecuador', 'Andorra', 'Latvia', 'Portugal', 'Saudi Arabia',\n",
       "       'Senegal', 'Jordan', 'Tunisia', 'Morocco', 'Chile', 'Argentina',\n",
       "       'Ukraine', 'Poland', 'Slovenia', 'Hungary', 'Liechtenstein',\n",
       "       'South Africa', 'Bhutan', 'Palestine', 'Bosnia and Herzegovina',\n",
       "       'Holy See', 'Togo', 'Colombia', 'Slovakia', 'Serbia', 'Costa Rica',\n",
       "       'Peru', 'Cameroon', 'Paraguay', 'Moldova', 'Maldives', 'Malta',\n",
       "       'Bulgaria', 'Bangladesh', 'Albania', 'Panama', 'Brunei Darussalam',\n",
       "       'Cyprus', 'Mongolia', 'Burkina Faso',\n",
       "       'Democratic Republic of the Congo', 'United kingdom', 'Honduras',\n",
       "       'Turkey', 'Cuba', 'Bolivia', 'Jamaica', 'Cote dIvoire',\n",
       "       'Czech republic', 'Ghana', 'Guyana', 'Trinidad and Tobago',\n",
       "       'Gabon', 'Saint Vincent and the Grenadines', 'Sudan',\n",
       "       'switzerland', 'Guinea', 'Ethiopia', 'Kenya'], dtype=object)"
      ]
     },
     "execution_count": 15,
     "metadata": {},
     "output_type": "execute_result"
    }
   ],
   "source": [
    "covid19_data['CountryExp'].unique()"
   ]
  },
  {
   "cell_type": "code",
   "execution_count": 16,
   "metadata": {},
   "outputs": [],
   "source": [
    "# Not studying conveyance Japan so dropping it \n",
    "covid19_data = covid19_data[covid19_data['CountryExp'] == 'Cases on an international conveyance Japan']"
   ]
  },
  {
   "cell_type": "markdown",
   "metadata": {},
   "source": [
    "## Explore possible features"
   ]
  },
  {
   "cell_type": "markdown",
   "metadata": {},
   "source": [
    "Understand China contagion behaviour"
   ]
  },
  {
   "cell_type": "code",
   "execution_count": 18,
   "metadata": {},
   "outputs": [],
   "source": [
    "covid19_data_china = covid19_data[covid19_data['CountryExp'] == 'China']"
   ]
  },
  {
   "cell_type": "code",
   "execution_count": null,
   "metadata": {},
   "outputs": [],
   "source": [
    "If the disease has 14 days of "
   ]
  }
 ],
 "metadata": {
  "kernelspec": {
   "display_name": "Python 3",
   "language": "python",
   "name": "python3"
  },
  "language_info": {
   "codemirror_mode": {
    "name": "ipython",
    "version": 3
   },
   "file_extension": ".py",
   "mimetype": "text/x-python",
   "name": "python",
   "nbconvert_exporter": "python",
   "pygments_lexer": "ipython3",
   "version": "3.6.4"
  }
 },
 "nbformat": 4,
 "nbformat_minor": 2
}
