{
 "cells": [
  {
   "cell_type": "markdown",
   "metadata": {},
   "source": [
    "# Data Wrangling of COVID-19\n",
    "15 March 2020\n",
    "\n",
    "Cecilia García López de Munain"
   ]
  },
  {
   "cell_type": "markdown",
   "metadata": {},
   "source": [
    "## Libraries"
   ]
  },
  {
   "cell_type": "code",
   "execution_count": 1,
   "metadata": {},
   "outputs": [],
   "source": [
    "import pandas as pd\n",
    "import numpy as np\n",
    "import os\n",
    "import sys\n",
    "import matplotlib.pyplot as plt\n",
    "import pickle"
   ]
  },
  {
   "cell_type": "markdown",
   "metadata": {},
   "source": [
    "## Parameters"
   ]
  },
  {
   "cell_type": "code",
   "execution_count": 2,
   "metadata": {},
   "outputs": [],
   "source": [
    "sys.path.append('./')"
   ]
  },
  {
   "cell_type": "code",
   "execution_count": 3,
   "metadata": {},
   "outputs": [],
   "source": [
    "PATH_ROOT_INPUT_DATA = 'data\\\\input\\\\COVID-19-master\\\\archived_data\\\\archived_daily_case_updates'\n",
    "\n",
    "PATH_ROOT_INTERIM_DATA = 'data\\\\interim'\n",
    "INTERIM_DATA_NAME = 'covid_19_fulldata.pkl'"
   ]
  },
  {
   "cell_type": "code",
   "execution_count": 4,
   "metadata": {},
   "outputs": [],
   "source": [
    "files = []\n",
    "for r, d, f in os.walk(PATH_ROOT_INPUT_DATA):\n",
    "    for file in f:\n",
    "        if '.csv' in file:\n",
    "            files.append(os.path.join(r, file))\n",
    "\n",
    "dfs_list = []            \n",
    "for file in files:\n",
    "    df = pd.read_csv(os.path.join(file))\n",
    "    dfs_list.append(df)\n",
    "    \n",
    "covid19_full_data = pd.concat(dfs_list, axis=0, ignore_index=True, sort=True)"
   ]
  },
  {
   "cell_type": "code",
   "execution_count": 5,
   "metadata": {},
   "outputs": [
    {
     "data": {
      "text/html": [
       "<div>\n",
       "<style scoped>\n",
       "    .dataframe tbody tr th:only-of-type {\n",
       "        vertical-align: middle;\n",
       "    }\n",
       "\n",
       "    .dataframe tbody tr th {\n",
       "        vertical-align: top;\n",
       "    }\n",
       "\n",
       "    .dataframe thead th {\n",
       "        text-align: right;\n",
       "    }\n",
       "</style>\n",
       "<table border=\"1\" class=\"dataframe\">\n",
       "  <thead>\n",
       "    <tr style=\"text-align: right;\">\n",
       "      <th></th>\n",
       "      <th>Confirmed</th>\n",
       "      <th>ConfnSusp</th>\n",
       "      <th>Country/Region</th>\n",
       "      <th>Deaths</th>\n",
       "      <th>Last Update</th>\n",
       "      <th>Notes</th>\n",
       "      <th>Province/State</th>\n",
       "      <th>Recovered</th>\n",
       "      <th>Suspected</th>\n",
       "    </tr>\n",
       "  </thead>\n",
       "  <tbody>\n",
       "    <tr>\n",
       "      <th>0</th>\n",
       "      <td>NaN</td>\n",
       "      <td>NaN</td>\n",
       "      <td>Mainland China</td>\n",
       "      <td>NaN</td>\n",
       "      <td>1/21/2020 10pm</td>\n",
       "      <td>NaN</td>\n",
       "      <td>Anhui</td>\n",
       "      <td>NaN</td>\n",
       "      <td>3.0</td>\n",
       "    </tr>\n",
       "    <tr>\n",
       "      <th>1</th>\n",
       "      <td>10.0</td>\n",
       "      <td>NaN</td>\n",
       "      <td>Mainland China</td>\n",
       "      <td>NaN</td>\n",
       "      <td>1/21/2020 10pm</td>\n",
       "      <td>NaN</td>\n",
       "      <td>Beijing</td>\n",
       "      <td>NaN</td>\n",
       "      <td>NaN</td>\n",
       "    </tr>\n",
       "    <tr>\n",
       "      <th>2</th>\n",
       "      <td>5.0</td>\n",
       "      <td>NaN</td>\n",
       "      <td>Mainland China</td>\n",
       "      <td>NaN</td>\n",
       "      <td>1/21/2020 10pm</td>\n",
       "      <td>NaN</td>\n",
       "      <td>Chongqing</td>\n",
       "      <td>NaN</td>\n",
       "      <td>NaN</td>\n",
       "    </tr>\n",
       "    <tr>\n",
       "      <th>3</th>\n",
       "      <td>17.0</td>\n",
       "      <td>NaN</td>\n",
       "      <td>Mainland China</td>\n",
       "      <td>NaN</td>\n",
       "      <td>1/21/2020 10pm</td>\n",
       "      <td>NaN</td>\n",
       "      <td>Guangdong</td>\n",
       "      <td>NaN</td>\n",
       "      <td>4.0</td>\n",
       "    </tr>\n",
       "    <tr>\n",
       "      <th>4</th>\n",
       "      <td>NaN</td>\n",
       "      <td>NaN</td>\n",
       "      <td>Mainland China</td>\n",
       "      <td>NaN</td>\n",
       "      <td>1/21/2020 10pm</td>\n",
       "      <td>NaN</td>\n",
       "      <td>Guangxi</td>\n",
       "      <td>NaN</td>\n",
       "      <td>1.0</td>\n",
       "    </tr>\n",
       "  </tbody>\n",
       "</table>\n",
       "</div>"
      ],
      "text/plain": [
       "   Confirmed  ConfnSusp  Country/Region  Deaths     Last Update Notes  \\\n",
       "0        NaN        NaN  Mainland China     NaN  1/21/2020 10pm   NaN   \n",
       "1       10.0        NaN  Mainland China     NaN  1/21/2020 10pm   NaN   \n",
       "2        5.0        NaN  Mainland China     NaN  1/21/2020 10pm   NaN   \n",
       "3       17.0        NaN  Mainland China     NaN  1/21/2020 10pm   NaN   \n",
       "4        NaN        NaN  Mainland China     NaN  1/21/2020 10pm   NaN   \n",
       "\n",
       "  Province/State  Recovered  Suspected  \n",
       "0          Anhui        NaN        3.0  \n",
       "1        Beijing        NaN        NaN  \n",
       "2      Chongqing        NaN        NaN  \n",
       "3      Guangdong        NaN        4.0  \n",
       "4        Guangxi        NaN        1.0  "
      ]
     },
     "execution_count": 5,
     "metadata": {},
     "output_type": "execute_result"
    }
   ],
   "source": [
    "covid19_full_data.head()"
   ]
  },
  {
   "cell_type": "code",
   "execution_count": 11,
   "metadata": {
    "scrolled": false
   },
   "outputs": [
    {
     "data": {
      "text/html": [
       "<div>\n",
       "<style scoped>\n",
       "    .dataframe tbody tr th:only-of-type {\n",
       "        vertical-align: middle;\n",
       "    }\n",
       "\n",
       "    .dataframe tbody tr th {\n",
       "        vertical-align: top;\n",
       "    }\n",
       "\n",
       "    .dataframe thead th {\n",
       "        text-align: right;\n",
       "    }\n",
       "</style>\n",
       "<table border=\"1\" class=\"dataframe\">\n",
       "  <thead>\n",
       "    <tr style=\"text-align: right;\">\n",
       "      <th></th>\n",
       "      <th>Confirmed</th>\n",
       "      <th>ConfnSusp</th>\n",
       "      <th>Country/Region</th>\n",
       "      <th>Deaths</th>\n",
       "      <th>Last Update</th>\n",
       "      <th>Notes</th>\n",
       "      <th>Province/State</th>\n",
       "      <th>Recovered</th>\n",
       "      <th>Suspected</th>\n",
       "    </tr>\n",
       "  </thead>\n",
       "  <tbody>\n",
       "    <tr>\n",
       "      <th>3034</th>\n",
       "      <td>1.0</td>\n",
       "      <td>NaN</td>\n",
       "      <td>US</td>\n",
       "      <td>0.0</td>\n",
       "      <td>2020-02-05 21:53:02</td>\n",
       "      <td>NaN</td>\n",
       "      <td>Madison, WI</td>\n",
       "      <td>0.0</td>\n",
       "      <td>NaN</td>\n",
       "    </tr>\n",
       "    <tr>\n",
       "      <th>3035</th>\n",
       "      <td>1.0</td>\n",
       "      <td>NaN</td>\n",
       "      <td>US</td>\n",
       "      <td>0.0</td>\n",
       "      <td>2020-02-01 19:53:03</td>\n",
       "      <td>NaN</td>\n",
       "      <td>Orange, CA</td>\n",
       "      <td>0.0</td>\n",
       "      <td>NaN</td>\n",
       "    </tr>\n",
       "    <tr>\n",
       "      <th>3036</th>\n",
       "      <td>1.0</td>\n",
       "      <td>NaN</td>\n",
       "      <td>US</td>\n",
       "      <td>0.0</td>\n",
       "      <td>2020-02-13 18:53:02</td>\n",
       "      <td>NaN</td>\n",
       "      <td>San Antonio, TX</td>\n",
       "      <td>0.0</td>\n",
       "      <td>NaN</td>\n",
       "    </tr>\n",
       "    <tr>\n",
       "      <th>3037</th>\n",
       "      <td>1.0</td>\n",
       "      <td>NaN</td>\n",
       "      <td>US</td>\n",
       "      <td>0.0</td>\n",
       "      <td>2020-02-09 07:03:04</td>\n",
       "      <td>NaN</td>\n",
       "      <td>Seattle, WA</td>\n",
       "      <td>1.0</td>\n",
       "      <td>NaN</td>\n",
       "    </tr>\n",
       "    <tr>\n",
       "      <th>3038</th>\n",
       "      <td>1.0</td>\n",
       "      <td>NaN</td>\n",
       "      <td>US</td>\n",
       "      <td>0.0</td>\n",
       "      <td>2020-02-01 19:43:03</td>\n",
       "      <td>NaN</td>\n",
       "      <td>Tempe, AZ</td>\n",
       "      <td>0.0</td>\n",
       "      <td>NaN</td>\n",
       "    </tr>\n",
       "  </tbody>\n",
       "</table>\n",
       "</div>"
      ],
      "text/plain": [
       "      Confirmed  ConfnSusp Country/Region  Deaths          Last Update Notes  \\\n",
       "3034        1.0        NaN             US     0.0  2020-02-05 21:53:02   NaN   \n",
       "3035        1.0        NaN             US     0.0  2020-02-01 19:53:03   NaN   \n",
       "3036        1.0        NaN             US     0.0  2020-02-13 18:53:02   NaN   \n",
       "3037        1.0        NaN             US     0.0  2020-02-09 07:03:04   NaN   \n",
       "3038        1.0        NaN             US     0.0  2020-02-01 19:43:03   NaN   \n",
       "\n",
       "       Province/State  Recovered  Suspected  \n",
       "3034      Madison, WI        0.0        NaN  \n",
       "3035       Orange, CA        0.0        NaN  \n",
       "3036  San Antonio, TX        0.0        NaN  \n",
       "3037      Seattle, WA        1.0        NaN  \n",
       "3038        Tempe, AZ        0.0        NaN  "
      ]
     },
     "execution_count": 11,
     "metadata": {},
     "output_type": "execute_result"
    }
   ],
   "source": [
    "covid19_full_data.tail()"
   ]
  },
  {
   "cell_type": "code",
   "execution_count": 40,
   "metadata": {},
   "outputs": [],
   "source": [
    "# Change date format\n",
    "covid19_full_data.loc[:,'Last Update'] = pd.to_datetime(covid19_full_data.loc[:,'Last Update'])"
   ]
  },
  {
   "cell_type": "code",
   "execution_count": 50,
   "metadata": {},
   "outputs": [
    {
     "data": {
      "text/plain": [
       "array(['Mainland China', 'Hong Kong', 'Taiwan', 'Japan', 'US',\n",
       "       'South Korea', 'Thailand', 'Macau', 'Singapore ', 'Philippines',\n",
       "       'Malaysia', 'Vietnam', 'Australia', 'Mexico', 'Brazil', 'Colombia',\n",
       "       'France', 'Nepal', 'Malaysia ', 'Canada', 'Cambodia', 'Sri Lanka',\n",
       "       'Ivory Coast', 'Germany', 'Singapore', 'United Arab Emirates',\n",
       "       'Finland', 'India', 'Italy', 'UK', 'Russia', 'Sweden', 'Spain',\n",
       "       'Belgium', 'Others'], dtype=object)"
      ]
     },
     "execution_count": 50,
     "metadata": {},
     "output_type": "execute_result"
    }
   ],
   "source": [
    "covid19_full_data.loc[:,'Country/Region'].unique()"
   ]
  },
  {
   "cell_type": "markdown",
   "metadata": {},
   "source": [
    "### Some Plotting for checks"
   ]
  },
  {
   "cell_type": "code",
   "execution_count": 53,
   "metadata": {},
   "outputs": [
    {
     "data": {
      "text/plain": [
       "<matplotlib.axes._subplots.AxesSubplot at 0x226ede48f60>"
      ]
     },
     "execution_count": 53,
     "metadata": {},
     "output_type": "execute_result"
    },
    {
     "data": {
      "image/png": "[encoded data removed]",
      "text/plain": [
       "<Figure size 432x288 with 1 Axes>"
      ]
     },
     "metadata": {
      "needs_background": "light"
     },
     "output_type": "display_data"
    }
   ],
   "source": [
    "covid19_full_data[covid19_full_data.loc[:,'Country/Region'] == 'Mainland China'].loc[:,['Last Update','Confirmed','Recovered','Suspected']].set_index('Last Update').cumsum().plot()"
   ]
  },
  {
   "cell_type": "markdown",
   "metadata": {},
   "source": [
    "## Export"
   ]
  },
  {
   "cell_type": "code",
   "execution_count": 45,
   "metadata": {},
   "outputs": [],
   "source": [
    "with open(os.path.join(PATH_ROOT_INTERIM_DATA,INTERIM_DATA_NAME), 'wb') as f:\n",
    "    pickle.dump(covid19_full_data, f)"
   ]
  }
 ],
 "metadata": {
  "kernelspec": {
   "display_name": "Python 3",
   "language": "python",
   "name": "python3"
  },
  "language_info": {
   "codemirror_mode": {
    "name": "ipython",
    "version": 3
   },
   "file_extension": ".py",
   "mimetype": "text/x-python",
   "name": "python",
   "nbconvert_exporter": "python",
   "pygments_lexer": "ipython3",
   "version": "3.6.4"
  },
  "toc": {
   "base_numbering": 1,
   "nav_menu": {
    "height": "324.01px",
    "width": "245.017px"
   },
   "number_sections": true,
   "sideBar": true,
   "skip_h1_title": false,
   "title_cell": "Table of Contents",
   "title_sidebar": "Contents",
   "toc_cell": false,
   "toc_position": {
    "height": "calc(100% - 180px)",
    "left": "10px",
    "top": "150px",
    "width": "234.306px"
   },
   "toc_section_display": true,
   "toc_window_display": true
  }
 },
 "nbformat": 4,
 "nbformat_minor": 2
}
