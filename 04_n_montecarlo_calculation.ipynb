{
 "cells": [
  {
   "cell_type": "markdown",
   "metadata": {},
   "source": [
    "# N size for Montecarlo Simulation\n",
    "4 April 2020\n",
    "\n",
    "Cecilia García López de Munain"
   ]
  },
  {
   "cell_type": "markdown",
   "metadata": {},
   "source": [
    "## Libraries"
   ]
  },
  {
   "cell_type": "code",
   "execution_count": 1,
   "metadata": {},
   "outputs": [],
   "source": [
    "import os, sys\n",
    "import math\n",
    "import numpy as np\n",
    "from scipy import stats\n",
    "import pandas as pd\n",
    "import seaborn as sns\n",
    "import matplotlib as plt"
   ]
  },
  {
   "cell_type": "markdown",
   "metadata": {},
   "source": [
    "## Parameters"
   ]
  },
  {
   "cell_type": "code",
   "execution_count": 2,
   "metadata": {},
   "outputs": [],
   "source": [
    "sys.path.append('./')"
   ]
  },
  {
   "cell_type": "code",
   "execution_count": 3,
   "metadata": {},
   "outputs": [],
   "source": [
    "PATH_ROOT_INPUT_DATA = 'data\\\\input\\\\N_Montecarlo'\n",
    "INPUT_DATA_NAME = 'max_cases_results.xlsx'"
   ]
  },
  {
   "cell_type": "code",
   "execution_count": 4,
   "metadata": {},
   "outputs": [],
   "source": [
    "CONFIDENCE = 0.99\n",
    "HW = 1000000"
   ]
  },
  {
   "cell_type": "markdown",
   "metadata": {},
   "source": [
    "## Import Data"
   ]
  },
  {
   "cell_type": "code",
   "execution_count": 5,
   "metadata": {},
   "outputs": [],
   "source": [
    "results = pd.read_excel(os.path.join(PATH_ROOT_INPUT_DATA, INPUT_DATA_NAME))"
   ]
  },
  {
   "cell_type": "markdown",
   "metadata": {},
   "source": [
    "### Plot"
   ]
  },
  {
   "cell_type": "code",
   "execution_count": 6,
   "metadata": {
    "scrolled": true
   },
   "outputs": [
    {
     "data": {
      "text/plain": [
       "(0, 29608250.101099275)"
      ]
     },
     "execution_count": 6,
     "metadata": {},
     "output_type": "execute_result"
    },
    {
     "data": {
      "image/png": "[encoded data removed]",
      "text/plain": [
       "<Figure size 432x288 with 1 Axes>"
      ]
     },
     "metadata": {
      "needs_background": "light"
     },
     "output_type": "display_data"
    }
   ],
   "source": [
    "# Plot histogram and assign to ax\n",
    "ax = sns.distplot(results, rug=True)\n",
    "\n",
    "# Highlight mean\n",
    "ax.axvline(results.mean().values, color='b')\n",
    "\n",
    "# Set xlim\n",
    "ax.set_xlim(0,)"
   ]
  },
  {
   "cell_type": "code",
   "execution_count": 7,
   "metadata": {},
   "outputs": [
    {
     "name": "stdout",
     "output_type": "stream",
     "text": [
      "10637950.911735961\n",
      "24003033.217441257\n"
     ]
    }
   ],
   "source": [
    "print(np.quantile(results, 0.05))\n",
    "print(np.quantile(results, 0.995))"
   ]
  },
  {
   "cell_type": "markdown",
   "metadata": {},
   "source": [
    "## Compute initial parameters"
   ]
  },
  {
   "cell_type": "code",
   "execution_count": 8,
   "metadata": {},
   "outputs": [
    {
     "name": "stdout",
     "output_type": "stream",
     "text": [
      "Size:  1000\n",
      "Mean:  15902047.134527432\n",
      "Standard Deviation:  3105422.1345820036\n",
      "0.1952844252259405\n"
     ]
    }
   ],
   "source": [
    "N = len(results)\n",
    "mean = np.mean(results.values)\n",
    "stdev = np.std(results.values)\n",
    "\n",
    "print('Size: ', N)\n",
    "print('Mean: ', mean)\n",
    "print('Standard Deviation: ', stdev)\n",
    "\n",
    "print(stdev/mean)"
   ]
  },
  {
   "cell_type": "markdown",
   "metadata": {},
   "source": [
    "## Compute N for Montecarlo"
   ]
  },
  {
   "cell_type": "code",
   "execution_count": 9,
   "metadata": {},
   "outputs": [],
   "source": [
    "def calc_N(HW, confidence=0.99):\n",
    "    test_stat = - stats.norm.ppf((1-confidence)/2)\n",
    "    N = (stdev * test_stat / HW ) ** 2\n",
    "    \n",
    "    return N"
   ]
  },
  {
   "cell_type": "code",
   "execution_count": 16,
   "metadata": {},
   "outputs": [
    {
     "name": "stdout",
     "output_type": "stream",
     "text": [
      "N needed:  63.98\n"
     ]
    }
   ],
   "source": [
    "N = calc_N(HW, CONFIDENCE)\n",
    "print('N needed: ', round(N,2))"
   ]
  },
  {
   "cell_type": "code",
   "execution_count": 11,
   "metadata": {},
   "outputs": [],
   "source": [
    "# test_stat = stats.norm.ppf((confidence)/2)\n",
    "# lower_bound = mean - test_stat * stdev / math.sqrt(N)\n",
    "# upper_bound = mean + test_stat * stdev / math.sqrt(N)"
   ]
  },
  {
   "cell_type": "code",
   "execution_count": 12,
   "metadata": {},
   "outputs": [],
   "source": [
    "# print('Z score', test_stat)\n",
    "# print(lower_bound)\n",
    "# print(upper_bound)"
   ]
  },
  {
   "cell_type": "markdown",
   "metadata": {},
   "source": [
    "### Plot"
   ]
  },
  {
   "cell_type": "code",
   "execution_count": 13,
   "metadata": {},
   "outputs": [
    {
     "data": {
      "text/plain": [
       "(0, 29608250.101099275)"
      ]
     },
     "execution_count": 13,
     "metadata": {},
     "output_type": "execute_result"
    },
    {
     "data": {
      "image/png": "[encoded data removed]",
      "text/plain": [
       "<Figure size 432x288 with 1 Axes>"
      ]
     },
     "metadata": {
      "needs_background": "light"
     },
     "output_type": "display_data"
    }
   ],
   "source": [
    "# Plot histogram and assign to ax\n",
    "ax = sns.distplot(results, rug=True)\n",
    "\n",
    "# Highlight mean\n",
    "ax.axvline(mean, color='b')\n",
    "\n",
    "# Highlight lower bound\n",
    "ax.axvline(mean-HW/2, color='g')\n",
    "\n",
    "# Highlight upper bound\n",
    "ax.axvline(mean+HW/2, color='g')\n",
    "\n",
    "# Set xlim\n",
    "ax.set_xlim(0,)"
   ]
  }
 ],
 "metadata": {
  "kernelspec": {
   "display_name": "Python 3",
   "language": "python",
   "name": "python3"
  },
  "language_info": {
   "codemirror_mode": {
    "name": "ipython",
    "version": 3
   },
   "file_extension": ".py",
   "mimetype": "text/x-python",
   "name": "python",
   "nbconvert_exporter": "python",
   "pygments_lexer": "ipython3",
   "version": "3.8.1"
  },
  "toc": {
   "base_numbering": 1,
   "nav_menu": {},
   "number_sections": true,
   "sideBar": true,
   "skip_h1_title": false,
   "title_cell": "Table of Contents",
   "title_sidebar": "Contents",
   "toc_cell": false,
   "toc_position": {},
   "toc_section_display": true,
   "toc_window_display": true
  }
 },
 "nbformat": 4,
 "nbformat_minor": 2
}
