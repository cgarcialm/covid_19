{
 "cells": [
  {
   "cell_type": "markdown",
   "metadata": {},
   "source": [
    "# Data Exploration of COVID-19\n",
    "14 March 2020\n",
    "\n",
    "Cecilia García López de Munain"
   ]
  },
  {
   "cell_type": "markdown",
   "metadata": {},
   "source": [
    "## Libraries"
   ]
  },
  {
   "cell_type": "code",
   "execution_count": 42,
   "metadata": {},
   "outputs": [],
   "source": [
    "import pandas as pd\n",
    "import numpy as np\n",
    "import os\n",
    "import sys\n",
    "import matplotlib.pyplot as plt\n",
    "import pickle"
   ]
  },
  {
   "cell_type": "markdown",
   "metadata": {},
   "source": [
    "## Parameters"
   ]
  },
  {
   "cell_type": "code",
   "execution_count": 43,
   "metadata": {},
   "outputs": [],
   "source": [
    "sys.path.append('./')"
   ]
  },
  {
   "cell_type": "code",
   "execution_count": 44,
   "metadata": {},
   "outputs": [],
   "source": [
    "PATH_ROOT_INPUT_DATA = 'data\\\\input'\n",
    "INPUT_DATA_NAME = 'COVID-19-geographic-disbtribution-worldwide-2020-04-05.xlsx'\n",
    "INPUT_DATA_POPULATION_NAME = 'population_by_country.csv'\n",
    "INPUT_DATA_POPDENSITY_NAME = 'populationdensity_by_country.csv'\n",
    "\n",
    "PATH_ROOT_INTERIM_DATA = 'data\\\\interim'\n",
    "INTERIM_DATA_NAME = 'covid_19_data_cum.pkl'"
   ]
  },
  {
   "cell_type": "markdown",
   "metadata": {},
   "source": [
    "## Import Data"
   ]
  },
  {
   "cell_type": "markdown",
   "metadata": {},
   "source": [
    "### Population Data\n",
    "\n",
    "Source: UN"
   ]
  },
  {
   "cell_type": "code",
   "execution_count": 45,
   "metadata": {},
   "outputs": [],
   "source": [
    "population_by_country = pd.read_csv(os.path.join(PATH_ROOT_INPUT_DATA,INPUT_DATA_POPULATION_NAME), skiprows=4)"
   ]
  },
  {
   "cell_type": "code",
   "execution_count": 46,
   "metadata": {
    "scrolled": true
   },
   "outputs": [
    {
     "data": {
      "text/html": [
       "<div>\n",
       "<style scoped>\n",
       "    .dataframe tbody tr th:only-of-type {\n",
       "        vertical-align: middle;\n",
       "    }\n",
       "\n",
       "    .dataframe tbody tr th {\n",
       "        vertical-align: top;\n",
       "    }\n",
       "\n",
       "    .dataframe thead th {\n",
       "        text-align: right;\n",
       "    }\n",
       "</style>\n",
       "<table border=\"1\" class=\"dataframe\">\n",
       "  <thead>\n",
       "    <tr style=\"text-align: right;\">\n",
       "      <th></th>\n",
       "      <th>Country Name</th>\n",
       "      <th>2018</th>\n",
       "    </tr>\n",
       "  </thead>\n",
       "  <tbody>\n",
       "    <tr>\n",
       "      <th>0</th>\n",
       "      <td>Aruba</td>\n",
       "      <td>105845.0</td>\n",
       "    </tr>\n",
       "    <tr>\n",
       "      <th>1</th>\n",
       "      <td>Afghanistan</td>\n",
       "      <td>37172386.0</td>\n",
       "    </tr>\n",
       "    <tr>\n",
       "      <th>2</th>\n",
       "      <td>Angola</td>\n",
       "      <td>30809762.0</td>\n",
       "    </tr>\n",
       "    <tr>\n",
       "      <th>3</th>\n",
       "      <td>Albania</td>\n",
       "      <td>2866376.0</td>\n",
       "    </tr>\n",
       "    <tr>\n",
       "      <th>4</th>\n",
       "      <td>Andorra</td>\n",
       "      <td>77006.0</td>\n",
       "    </tr>\n",
       "  </tbody>\n",
       "</table>\n",
       "</div>"
      ],
      "text/plain": [
       "  Country Name        2018\n",
       "0        Aruba    105845.0\n",
       "1  Afghanistan  37172386.0\n",
       "2       Angola  30809762.0\n",
       "3      Albania   2866376.0\n",
       "4      Andorra     77006.0"
      ]
     },
     "execution_count": 46,
     "metadata": {},
     "output_type": "execute_result"
    }
   ],
   "source": [
    "population_by_country.head()"
   ]
  },
  {
   "cell_type": "code",
   "execution_count": 47,
   "metadata": {},
   "outputs": [],
   "source": [
    "population_by_country.rename(columns={'2018':'Population'}, inplace=True)"
   ]
  },
  {
   "cell_type": "code",
   "execution_count": 48,
   "metadata": {
    "scrolled": false
   },
   "outputs": [
    {
     "data": {
      "text/plain": [
       "Country Name     object\n",
       "Population      float64\n",
       "dtype: object"
      ]
     },
     "execution_count": 48,
     "metadata": {},
     "output_type": "execute_result"
    }
   ],
   "source": [
    "population_by_country.dtypes"
   ]
  },
  {
   "cell_type": "markdown",
   "metadata": {},
   "source": [
    "### Population Density Data\n",
    "\n",
    "Source: UN"
   ]
  },
  {
   "cell_type": "code",
   "execution_count": 49,
   "metadata": {},
   "outputs": [],
   "source": [
    "popdensity_by_country = pd.read_csv(os.path.join(PATH_ROOT_INPUT_DATA,INPUT_DATA_POPDENSITY_NAME), skiprows=4)"
   ]
  },
  {
   "cell_type": "code",
   "execution_count": 50,
   "metadata": {
    "scrolled": true
   },
   "outputs": [
    {
     "data": {
      "text/html": [
       "<div>\n",
       "<style scoped>\n",
       "    .dataframe tbody tr th:only-of-type {\n",
       "        vertical-align: middle;\n",
       "    }\n",
       "\n",
       "    .dataframe tbody tr th {\n",
       "        vertical-align: top;\n",
       "    }\n",
       "\n",
       "    .dataframe thead th {\n",
       "        text-align: right;\n",
       "    }\n",
       "</style>\n",
       "<table border=\"1\" class=\"dataframe\">\n",
       "  <thead>\n",
       "    <tr style=\"text-align: right;\">\n",
       "      <th></th>\n",
       "      <th>Country Name</th>\n",
       "      <th>2018</th>\n",
       "    </tr>\n",
       "  </thead>\n",
       "  <tbody>\n",
       "    <tr>\n",
       "      <th>0</th>\n",
       "      <td>Aruba</td>\n",
       "      <td>588.027778</td>\n",
       "    </tr>\n",
       "    <tr>\n",
       "      <th>1</th>\n",
       "      <td>Afghanistan</td>\n",
       "      <td>56.937760</td>\n",
       "    </tr>\n",
       "    <tr>\n",
       "      <th>2</th>\n",
       "      <td>Angola</td>\n",
       "      <td>24.713052</td>\n",
       "    </tr>\n",
       "    <tr>\n",
       "      <th>3</th>\n",
       "      <td>Albania</td>\n",
       "      <td>104.612263</td>\n",
       "    </tr>\n",
       "    <tr>\n",
       "      <th>4</th>\n",
       "      <td>Andorra</td>\n",
       "      <td>163.842553</td>\n",
       "    </tr>\n",
       "  </tbody>\n",
       "</table>\n",
       "</div>"
      ],
      "text/plain": [
       "  Country Name        2018\n",
       "0        Aruba  588.027778\n",
       "1  Afghanistan   56.937760\n",
       "2       Angola   24.713052\n",
       "3      Albania  104.612263\n",
       "4      Andorra  163.842553"
      ]
     },
     "execution_count": 50,
     "metadata": {},
     "output_type": "execute_result"
    }
   ],
   "source": [
    "popdensity_by_country.head()"
   ]
  },
  {
   "cell_type": "code",
   "execution_count": 51,
   "metadata": {},
   "outputs": [],
   "source": [
    "popdensity_by_country.rename(columns={'2018':'Population Density'}, inplace=True)"
   ]
  },
  {
   "cell_type": "code",
   "execution_count": 52,
   "metadata": {
    "scrolled": false
   },
   "outputs": [
    {
     "data": {
      "text/plain": [
       "Country Name           object\n",
       "Population Density    float64\n",
       "dtype: object"
      ]
     },
     "execution_count": 52,
     "metadata": {},
     "output_type": "execute_result"
    }
   ],
   "source": [
    "popdensity_by_country.dtypes"
   ]
  },
  {
   "cell_type": "markdown",
   "metadata": {},
   "source": [
    "### COVID Data\n",
    "\n",
    "Source: https://www.ecdc.europa.eu/en/publications-data/download-todays-data-geographic-distribution-covid-19-cases-worldwide"
   ]
  },
  {
   "cell_type": "code",
   "execution_count": 53,
   "metadata": {},
   "outputs": [],
   "source": [
    "covid19_data = pd.read_excel(os.path.join(PATH_ROOT_INPUT_DATA,INPUT_DATA_NAME))"
   ]
  },
  {
   "cell_type": "code",
   "execution_count": 54,
   "metadata": {
    "scrolled": true
   },
   "outputs": [
    {
     "data": {
      "text/html": [
       "<div>\n",
       "<style scoped>\n",
       "    .dataframe tbody tr th:only-of-type {\n",
       "        vertical-align: middle;\n",
       "    }\n",
       "\n",
       "    .dataframe tbody tr th {\n",
       "        vertical-align: top;\n",
       "    }\n",
       "\n",
       "    .dataframe thead th {\n",
       "        text-align: right;\n",
       "    }\n",
       "</style>\n",
       "<table border=\"1\" class=\"dataframe\">\n",
       "  <thead>\n",
       "    <tr style=\"text-align: right;\">\n",
       "      <th></th>\n",
       "      <th>DateRep</th>\n",
       "      <th>Day</th>\n",
       "      <th>Month</th>\n",
       "      <th>Year</th>\n",
       "      <th>NewConfCases</th>\n",
       "      <th>NewDeaths</th>\n",
       "      <th>CountryExp</th>\n",
       "      <th>GeoId</th>\n",
       "      <th>countryterritoryCode</th>\n",
       "      <th>popData2018</th>\n",
       "    </tr>\n",
       "  </thead>\n",
       "  <tbody>\n",
       "    <tr>\n",
       "      <th>0</th>\n",
       "      <td>2020-04-05</td>\n",
       "      <td>5</td>\n",
       "      <td>4</td>\n",
       "      <td>2020</td>\n",
       "      <td>35</td>\n",
       "      <td>1</td>\n",
       "      <td>Afghanistan</td>\n",
       "      <td>AF</td>\n",
       "      <td>AFG</td>\n",
       "      <td>37172386.0</td>\n",
       "    </tr>\n",
       "    <tr>\n",
       "      <th>1</th>\n",
       "      <td>2020-04-04</td>\n",
       "      <td>4</td>\n",
       "      <td>4</td>\n",
       "      <td>2020</td>\n",
       "      <td>0</td>\n",
       "      <td>0</td>\n",
       "      <td>Afghanistan</td>\n",
       "      <td>AF</td>\n",
       "      <td>AFG</td>\n",
       "      <td>37172386.0</td>\n",
       "    </tr>\n",
       "    <tr>\n",
       "      <th>2</th>\n",
       "      <td>2020-04-03</td>\n",
       "      <td>3</td>\n",
       "      <td>4</td>\n",
       "      <td>2020</td>\n",
       "      <td>43</td>\n",
       "      <td>0</td>\n",
       "      <td>Afghanistan</td>\n",
       "      <td>AF</td>\n",
       "      <td>AFG</td>\n",
       "      <td>37172386.0</td>\n",
       "    </tr>\n",
       "    <tr>\n",
       "      <th>3</th>\n",
       "      <td>2020-04-02</td>\n",
       "      <td>2</td>\n",
       "      <td>4</td>\n",
       "      <td>2020</td>\n",
       "      <td>26</td>\n",
       "      <td>0</td>\n",
       "      <td>Afghanistan</td>\n",
       "      <td>AF</td>\n",
       "      <td>AFG</td>\n",
       "      <td>37172386.0</td>\n",
       "    </tr>\n",
       "    <tr>\n",
       "      <th>4</th>\n",
       "      <td>2020-04-01</td>\n",
       "      <td>1</td>\n",
       "      <td>4</td>\n",
       "      <td>2020</td>\n",
       "      <td>25</td>\n",
       "      <td>0</td>\n",
       "      <td>Afghanistan</td>\n",
       "      <td>AF</td>\n",
       "      <td>AFG</td>\n",
       "      <td>37172386.0</td>\n",
       "    </tr>\n",
       "  </tbody>\n",
       "</table>\n",
       "</div>"
      ],
      "text/plain": [
       "     DateRep  Day  Month  Year  NewConfCases  NewDeaths   CountryExp GeoId  \\\n",
       "0 2020-04-05    5      4  2020            35          1  Afghanistan    AF   \n",
       "1 2020-04-04    4      4  2020             0          0  Afghanistan    AF   \n",
       "2 2020-04-03    3      4  2020            43          0  Afghanistan    AF   \n",
       "3 2020-04-02    2      4  2020            26          0  Afghanistan    AF   \n",
       "4 2020-04-01    1      4  2020            25          0  Afghanistan    AF   \n",
       "\n",
       "  countryterritoryCode  popData2018  \n",
       "0                  AFG   37172386.0  \n",
       "1                  AFG   37172386.0  \n",
       "2                  AFG   37172386.0  \n",
       "3                  AFG   37172386.0  \n",
       "4                  AFG   37172386.0  "
      ]
     },
     "execution_count": 54,
     "metadata": {},
     "output_type": "execute_result"
    }
   ],
   "source": [
    "covid19_data.head()"
   ]
  },
  {
   "cell_type": "code",
   "execution_count": 55,
   "metadata": {},
   "outputs": [
    {
     "data": {
      "text/plain": [
       "DateRep                 datetime64[ns]\n",
       "Day                              int64\n",
       "Month                            int64\n",
       "Year                             int64\n",
       "NewConfCases                     int64\n",
       "NewDeaths                        int64\n",
       "CountryExp                      object\n",
       "GeoId                           object\n",
       "countryterritoryCode            object\n",
       "popData2018                    float64\n",
       "dtype: object"
      ]
     },
     "execution_count": 55,
     "metadata": {},
     "output_type": "execute_result"
    }
   ],
   "source": [
    "covid19_data.dtypes"
   ]
  },
  {
   "cell_type": "code",
   "execution_count": 56,
   "metadata": {},
   "outputs": [
    {
     "data": {
      "text/plain": [
       "(8905, 10)"
      ]
     },
     "execution_count": 56,
     "metadata": {},
     "output_type": "execute_result"
    }
   ],
   "source": [
    "covid19_data.shape"
   ]
  },
  {
   "cell_type": "code",
   "execution_count": 57,
   "metadata": {},
   "outputs": [
    {
     "data": {
      "text/plain": [
       "DateRep                  0\n",
       "Day                      0\n",
       "Month                    0\n",
       "Year                     0\n",
       "NewConfCases             0\n",
       "NewDeaths                0\n",
       "CountryExp               0\n",
       "GeoId                   22\n",
       "countryterritoryCode    81\n",
       "popData2018             32\n",
       "dtype: int64"
      ]
     },
     "execution_count": 57,
     "metadata": {},
     "output_type": "execute_result"
    }
   ],
   "source": [
    "# Checking for nulls\n",
    "covid19_data.isnull().sum()"
   ]
  },
  {
   "cell_type": "code",
   "execution_count": 58,
   "metadata": {
    "scrolled": false
   },
   "outputs": [],
   "source": [
    "# Don't know what this feature is so it doesn't matter for now\n",
    "# covid19_data[~covid19_data.Gaul1Nuts1.isnull()].head()"
   ]
  },
  {
   "cell_type": "markdown",
   "metadata": {},
   "source": [
    "## Prepare Data"
   ]
  },
  {
   "cell_type": "markdown",
   "metadata": {},
   "source": [
    "COVID Data"
   ]
  },
  {
   "cell_type": "code",
   "execution_count": 59,
   "metadata": {},
   "outputs": [],
   "source": [
    "# Set datetime index\n",
    "covid19_data.set_index('DateRep', inplace=True)"
   ]
  },
  {
   "cell_type": "code",
   "execution_count": 60,
   "metadata": {
    "scrolled": true
   },
   "outputs": [
    {
     "data": {
      "text/html": [
       "<div>\n",
       "<style scoped>\n",
       "    .dataframe tbody tr th:only-of-type {\n",
       "        vertical-align: middle;\n",
       "    }\n",
       "\n",
       "    .dataframe tbody tr th {\n",
       "        vertical-align: top;\n",
       "    }\n",
       "\n",
       "    .dataframe thead th {\n",
       "        text-align: right;\n",
       "    }\n",
       "</style>\n",
       "<table border=\"1\" class=\"dataframe\">\n",
       "  <thead>\n",
       "    <tr style=\"text-align: right;\">\n",
       "      <th></th>\n",
       "      <th>Day</th>\n",
       "      <th>Month</th>\n",
       "      <th>Year</th>\n",
       "      <th>NewConfCases</th>\n",
       "      <th>NewDeaths</th>\n",
       "      <th>CountryExp</th>\n",
       "      <th>GeoId</th>\n",
       "      <th>countryterritoryCode</th>\n",
       "      <th>popData2018</th>\n",
       "    </tr>\n",
       "    <tr>\n",
       "      <th>DateRep</th>\n",
       "      <th></th>\n",
       "      <th></th>\n",
       "      <th></th>\n",
       "      <th></th>\n",
       "      <th></th>\n",
       "      <th></th>\n",
       "      <th></th>\n",
       "      <th></th>\n",
       "      <th></th>\n",
       "    </tr>\n",
       "  </thead>\n",
       "  <tbody>\n",
       "    <tr>\n",
       "      <th>2020-04-05</th>\n",
       "      <td>5</td>\n",
       "      <td>4</td>\n",
       "      <td>2020</td>\n",
       "      <td>35</td>\n",
       "      <td>1</td>\n",
       "      <td>Afghanistan</td>\n",
       "      <td>AF</td>\n",
       "      <td>AFG</td>\n",
       "      <td>37172386.0</td>\n",
       "    </tr>\n",
       "    <tr>\n",
       "      <th>2020-04-04</th>\n",
       "      <td>4</td>\n",
       "      <td>4</td>\n",
       "      <td>2020</td>\n",
       "      <td>0</td>\n",
       "      <td>0</td>\n",
       "      <td>Afghanistan</td>\n",
       "      <td>AF</td>\n",
       "      <td>AFG</td>\n",
       "      <td>37172386.0</td>\n",
       "    </tr>\n",
       "    <tr>\n",
       "      <th>2020-04-03</th>\n",
       "      <td>3</td>\n",
       "      <td>4</td>\n",
       "      <td>2020</td>\n",
       "      <td>43</td>\n",
       "      <td>0</td>\n",
       "      <td>Afghanistan</td>\n",
       "      <td>AF</td>\n",
       "      <td>AFG</td>\n",
       "      <td>37172386.0</td>\n",
       "    </tr>\n",
       "    <tr>\n",
       "      <th>2020-04-02</th>\n",
       "      <td>2</td>\n",
       "      <td>4</td>\n",
       "      <td>2020</td>\n",
       "      <td>26</td>\n",
       "      <td>0</td>\n",
       "      <td>Afghanistan</td>\n",
       "      <td>AF</td>\n",
       "      <td>AFG</td>\n",
       "      <td>37172386.0</td>\n",
       "    </tr>\n",
       "    <tr>\n",
       "      <th>2020-04-01</th>\n",
       "      <td>1</td>\n",
       "      <td>4</td>\n",
       "      <td>2020</td>\n",
       "      <td>25</td>\n",
       "      <td>0</td>\n",
       "      <td>Afghanistan</td>\n",
       "      <td>AF</td>\n",
       "      <td>AFG</td>\n",
       "      <td>37172386.0</td>\n",
       "    </tr>\n",
       "  </tbody>\n",
       "</table>\n",
       "</div>"
      ],
      "text/plain": [
       "            Day  Month  Year  NewConfCases  NewDeaths   CountryExp GeoId  \\\n",
       "DateRep                                                                    \n",
       "2020-04-05    5      4  2020            35          1  Afghanistan    AF   \n",
       "2020-04-04    4      4  2020             0          0  Afghanistan    AF   \n",
       "2020-04-03    3      4  2020            43          0  Afghanistan    AF   \n",
       "2020-04-02    2      4  2020            26          0  Afghanistan    AF   \n",
       "2020-04-01    1      4  2020            25          0  Afghanistan    AF   \n",
       "\n",
       "           countryterritoryCode  popData2018  \n",
       "DateRep                                       \n",
       "2020-04-05                  AFG   37172386.0  \n",
       "2020-04-04                  AFG   37172386.0  \n",
       "2020-04-03                  AFG   37172386.0  \n",
       "2020-04-02                  AFG   37172386.0  \n",
       "2020-04-01                  AFG   37172386.0  "
      ]
     },
     "execution_count": 60,
     "metadata": {},
     "output_type": "execute_result"
    }
   ],
   "source": [
    "covid19_data.head()"
   ]
  },
  {
   "cell_type": "code",
   "execution_count": 61,
   "metadata": {},
   "outputs": [],
   "source": [
    "covid19_data.sort_index(inplace=True)"
   ]
  },
  {
   "cell_type": "code",
   "execution_count": 62,
   "metadata": {},
   "outputs": [],
   "source": [
    "# Group by country\n",
    "groupcols = ['CountryExp']"
   ]
  },
  {
   "cell_type": "code",
   "execution_count": 63,
   "metadata": {},
   "outputs": [],
   "source": [
    "# Create cumulative features\n",
    "covid19_data['NewConfCases_cum'] = covid19_data.groupby(groupcols)['NewConfCases'].cumsum()\n",
    "covid19_data['NewDeaths_cum'] = covid19_data.groupby(groupcols)['NewDeaths'].cumsum()"
   ]
  },
  {
   "cell_type": "code",
   "execution_count": 64,
   "metadata": {},
   "outputs": [
    {
     "data": {
      "text/plain": [
       "array(['Georgia', 'Israel'], dtype=object)"
      ]
     },
     "execution_count": 64,
     "metadata": {},
     "output_type": "execute_result"
    }
   ],
   "source": [
    "covid19_data.CountryExp.unique()[:2]"
   ]
  },
  {
   "cell_type": "code",
   "execution_count": 65,
   "metadata": {},
   "outputs": [
    {
     "data": {
      "text/html": [
       "<div>\n",
       "<style scoped>\n",
       "    .dataframe tbody tr th:only-of-type {\n",
       "        vertical-align: middle;\n",
       "    }\n",
       "\n",
       "    .dataframe tbody tr th {\n",
       "        vertical-align: top;\n",
       "    }\n",
       "\n",
       "    .dataframe thead th {\n",
       "        text-align: right;\n",
       "    }\n",
       "</style>\n",
       "<table border=\"1\" class=\"dataframe\">\n",
       "  <thead>\n",
       "    <tr style=\"text-align: right;\">\n",
       "      <th></th>\n",
       "      <th>Day</th>\n",
       "      <th>Month</th>\n",
       "      <th>Year</th>\n",
       "      <th>NewConfCases</th>\n",
       "      <th>NewDeaths</th>\n",
       "      <th>CountryExp</th>\n",
       "      <th>GeoId</th>\n",
       "      <th>countryterritoryCode</th>\n",
       "      <th>popData2018</th>\n",
       "      <th>NewConfCases_cum</th>\n",
       "      <th>NewDeaths_cum</th>\n",
       "    </tr>\n",
       "    <tr>\n",
       "      <th>DateRep</th>\n",
       "      <th></th>\n",
       "      <th></th>\n",
       "      <th></th>\n",
       "      <th></th>\n",
       "      <th></th>\n",
       "      <th></th>\n",
       "      <th></th>\n",
       "      <th></th>\n",
       "      <th></th>\n",
       "      <th></th>\n",
       "      <th></th>\n",
       "    </tr>\n",
       "  </thead>\n",
       "  <tbody>\n",
       "    <tr>\n",
       "      <th>2020-04-01</th>\n",
       "      <td>1</td>\n",
       "      <td>4</td>\n",
       "      <td>2020</td>\n",
       "      <td>25</td>\n",
       "      <td>0</td>\n",
       "      <td>Afghanistan</td>\n",
       "      <td>AF</td>\n",
       "      <td>AFG</td>\n",
       "      <td>37172386.0</td>\n",
       "      <td>166</td>\n",
       "      <td>4</td>\n",
       "    </tr>\n",
       "    <tr>\n",
       "      <th>2020-04-01</th>\n",
       "      <td>1</td>\n",
       "      <td>4</td>\n",
       "      <td>2020</td>\n",
       "      <td>20</td>\n",
       "      <td>3</td>\n",
       "      <td>Albania</td>\n",
       "      <td>AL</td>\n",
       "      <td>ALB</td>\n",
       "      <td>2866376.0</td>\n",
       "      <td>243</td>\n",
       "      <td>15</td>\n",
       "    </tr>\n",
       "    <tr>\n",
       "      <th>2020-04-02</th>\n",
       "      <td>2</td>\n",
       "      <td>4</td>\n",
       "      <td>2020</td>\n",
       "      <td>16</td>\n",
       "      <td>0</td>\n",
       "      <td>Albania</td>\n",
       "      <td>AL</td>\n",
       "      <td>ALB</td>\n",
       "      <td>2866376.0</td>\n",
       "      <td>259</td>\n",
       "      <td>15</td>\n",
       "    </tr>\n",
       "    <tr>\n",
       "      <th>2020-04-02</th>\n",
       "      <td>2</td>\n",
       "      <td>4</td>\n",
       "      <td>2020</td>\n",
       "      <td>26</td>\n",
       "      <td>0</td>\n",
       "      <td>Afghanistan</td>\n",
       "      <td>AF</td>\n",
       "      <td>AFG</td>\n",
       "      <td>37172386.0</td>\n",
       "      <td>192</td>\n",
       "      <td>4</td>\n",
       "    </tr>\n",
       "    <tr>\n",
       "      <th>2020-04-03</th>\n",
       "      <td>3</td>\n",
       "      <td>4</td>\n",
       "      <td>2020</td>\n",
       "      <td>18</td>\n",
       "      <td>1</td>\n",
       "      <td>Albania</td>\n",
       "      <td>AL</td>\n",
       "      <td>ALB</td>\n",
       "      <td>2866376.0</td>\n",
       "      <td>277</td>\n",
       "      <td>16</td>\n",
       "    </tr>\n",
       "    <tr>\n",
       "      <th>2020-04-03</th>\n",
       "      <td>3</td>\n",
       "      <td>4</td>\n",
       "      <td>2020</td>\n",
       "      <td>43</td>\n",
       "      <td>0</td>\n",
       "      <td>Afghanistan</td>\n",
       "      <td>AF</td>\n",
       "      <td>AFG</td>\n",
       "      <td>37172386.0</td>\n",
       "      <td>235</td>\n",
       "      <td>4</td>\n",
       "    </tr>\n",
       "    <tr>\n",
       "      <th>2020-04-04</th>\n",
       "      <td>4</td>\n",
       "      <td>4</td>\n",
       "      <td>2020</td>\n",
       "      <td>0</td>\n",
       "      <td>0</td>\n",
       "      <td>Afghanistan</td>\n",
       "      <td>AF</td>\n",
       "      <td>AFG</td>\n",
       "      <td>37172386.0</td>\n",
       "      <td>235</td>\n",
       "      <td>4</td>\n",
       "    </tr>\n",
       "    <tr>\n",
       "      <th>2020-04-04</th>\n",
       "      <td>4</td>\n",
       "      <td>4</td>\n",
       "      <td>2020</td>\n",
       "      <td>27</td>\n",
       "      <td>1</td>\n",
       "      <td>Albania</td>\n",
       "      <td>AL</td>\n",
       "      <td>ALB</td>\n",
       "      <td>2866376.0</td>\n",
       "      <td>304</td>\n",
       "      <td>17</td>\n",
       "    </tr>\n",
       "    <tr>\n",
       "      <th>2020-04-05</th>\n",
       "      <td>5</td>\n",
       "      <td>4</td>\n",
       "      <td>2020</td>\n",
       "      <td>29</td>\n",
       "      <td>2</td>\n",
       "      <td>Albania</td>\n",
       "      <td>AL</td>\n",
       "      <td>ALB</td>\n",
       "      <td>2866376.0</td>\n",
       "      <td>333</td>\n",
       "      <td>19</td>\n",
       "    </tr>\n",
       "    <tr>\n",
       "      <th>2020-04-05</th>\n",
       "      <td>5</td>\n",
       "      <td>4</td>\n",
       "      <td>2020</td>\n",
       "      <td>35</td>\n",
       "      <td>1</td>\n",
       "      <td>Afghanistan</td>\n",
       "      <td>AF</td>\n",
       "      <td>AFG</td>\n",
       "      <td>37172386.0</td>\n",
       "      <td>270</td>\n",
       "      <td>5</td>\n",
       "    </tr>\n",
       "  </tbody>\n",
       "</table>\n",
       "</div>"
      ],
      "text/plain": [
       "            Day  Month  Year  NewConfCases  NewDeaths   CountryExp GeoId  \\\n",
       "DateRep                                                                    \n",
       "2020-04-01    1      4  2020            25          0  Afghanistan    AF   \n",
       "2020-04-01    1      4  2020            20          3      Albania    AL   \n",
       "2020-04-02    2      4  2020            16          0      Albania    AL   \n",
       "2020-04-02    2      4  2020            26          0  Afghanistan    AF   \n",
       "2020-04-03    3      4  2020            18          1      Albania    AL   \n",
       "2020-04-03    3      4  2020            43          0  Afghanistan    AF   \n",
       "2020-04-04    4      4  2020             0          0  Afghanistan    AF   \n",
       "2020-04-04    4      4  2020            27          1      Albania    AL   \n",
       "2020-04-05    5      4  2020            29          2      Albania    AL   \n",
       "2020-04-05    5      4  2020            35          1  Afghanistan    AF   \n",
       "\n",
       "           countryterritoryCode  popData2018  NewConfCases_cum  NewDeaths_cum  \n",
       "DateRep                                                                        \n",
       "2020-04-01                  AFG   37172386.0               166              4  \n",
       "2020-04-01                  ALB    2866376.0               243             15  \n",
       "2020-04-02                  ALB    2866376.0               259             15  \n",
       "2020-04-02                  AFG   37172386.0               192              4  \n",
       "2020-04-03                  ALB    2866376.0               277             16  \n",
       "2020-04-03                  AFG   37172386.0               235              4  \n",
       "2020-04-04                  AFG   37172386.0               235              4  \n",
       "2020-04-04                  ALB    2866376.0               304             17  \n",
       "2020-04-05                  ALB    2866376.0               333             19  \n",
       "2020-04-05                  AFG   37172386.0               270              5  "
      ]
     },
     "execution_count": 65,
     "metadata": {},
     "output_type": "execute_result"
    }
   ],
   "source": [
    "# Checks\n",
    "covid19_data[covid19_data['CountryExp'].isin(['Afghanistan', 'Albania'])].tail(10)"
   ]
  },
  {
   "cell_type": "markdown",
   "metadata": {},
   "source": [
    "## Plot exploration"
   ]
  },
  {
   "cell_type": "markdown",
   "metadata": {},
   "source": [
    "### Plot cases confirmed by date"
   ]
  },
  {
   "cell_type": "code",
   "execution_count": 66,
   "metadata": {},
   "outputs": [],
   "source": [
    "covid19_data_bydate = covid19_data.groupby(covid19_data.index)['NewConfCases'].sum()"
   ]
  },
  {
   "cell_type": "code",
   "execution_count": 67,
   "metadata": {},
   "outputs": [
    {
     "data": {
      "text/plain": [
       "<matplotlib.axes._subplots.AxesSubplot at 0x2c83b80dc50>"
      ]
     },
     "execution_count": 67,
     "metadata": {},
     "output_type": "execute_result"
    },
    {
     "data": {
      "image/png": "[encoded data removed]",
      "text/plain": [
       "<Figure size 432x288 with 1 Axes>"
      ]
     },
     "metadata": {
      "needs_background": "light"
     },
     "output_type": "display_data"
    }
   ],
   "source": [
    "covid19_data_bydate.plot()"
   ]
  },
  {
   "cell_type": "code",
   "execution_count": 68,
   "metadata": {},
   "outputs": [
    {
     "data": {
      "text/html": [
       "<div>\n",
       "<style scoped>\n",
       "    .dataframe tbody tr th:only-of-type {\n",
       "        vertical-align: middle;\n",
       "    }\n",
       "\n",
       "    .dataframe tbody tr th {\n",
       "        vertical-align: top;\n",
       "    }\n",
       "\n",
       "    .dataframe thead th {\n",
       "        text-align: right;\n",
       "    }\n",
       "</style>\n",
       "<table border=\"1\" class=\"dataframe\">\n",
       "  <thead>\n",
       "    <tr style=\"text-align: right;\">\n",
       "      <th></th>\n",
       "      <th>Day</th>\n",
       "      <th>Month</th>\n",
       "      <th>Year</th>\n",
       "      <th>NewConfCases</th>\n",
       "      <th>NewDeaths</th>\n",
       "      <th>CountryExp</th>\n",
       "      <th>GeoId</th>\n",
       "      <th>countryterritoryCode</th>\n",
       "      <th>popData2018</th>\n",
       "      <th>NewConfCases_cum</th>\n",
       "      <th>NewDeaths_cum</th>\n",
       "    </tr>\n",
       "    <tr>\n",
       "      <th>DateRep</th>\n",
       "      <th></th>\n",
       "      <th></th>\n",
       "      <th></th>\n",
       "      <th></th>\n",
       "      <th></th>\n",
       "      <th></th>\n",
       "      <th></th>\n",
       "      <th></th>\n",
       "      <th></th>\n",
       "      <th></th>\n",
       "      <th></th>\n",
       "    </tr>\n",
       "  </thead>\n",
       "  <tbody>\n",
       "    <tr>\n",
       "      <th>2020-02-13</th>\n",
       "      <td>13</td>\n",
       "      <td>2</td>\n",
       "      <td>2020</td>\n",
       "      <td>15141</td>\n",
       "      <td>254</td>\n",
       "      <td>China</td>\n",
       "      <td>CN</td>\n",
       "      <td>CHN</td>\n",
       "      <td>1.392730e+09</td>\n",
       "      <td>59865</td>\n",
       "      <td>1368</td>\n",
       "    </tr>\n",
       "    <tr>\n",
       "      <th>2020-03-26</th>\n",
       "      <td>26</td>\n",
       "      <td>3</td>\n",
       "      <td>2020</td>\n",
       "      <td>13963</td>\n",
       "      <td>249</td>\n",
       "      <td>United_States_of_America</td>\n",
       "      <td>US</td>\n",
       "      <td>USA</td>\n",
       "      <td>3.271674e+08</td>\n",
       "      <td>69194</td>\n",
       "      <td>1050</td>\n",
       "    </tr>\n",
       "    <tr>\n",
       "      <th>2020-03-27</th>\n",
       "      <td>27</td>\n",
       "      <td>3</td>\n",
       "      <td>2020</td>\n",
       "      <td>16797</td>\n",
       "      <td>246</td>\n",
       "      <td>United_States_of_America</td>\n",
       "      <td>US</td>\n",
       "      <td>USA</td>\n",
       "      <td>3.271674e+08</td>\n",
       "      <td>85991</td>\n",
       "      <td>1296</td>\n",
       "    </tr>\n",
       "    <tr>\n",
       "      <th>2020-03-28</th>\n",
       "      <td>28</td>\n",
       "      <td>3</td>\n",
       "      <td>2020</td>\n",
       "      <td>18695</td>\n",
       "      <td>411</td>\n",
       "      <td>United_States_of_America</td>\n",
       "      <td>US</td>\n",
       "      <td>USA</td>\n",
       "      <td>3.271674e+08</td>\n",
       "      <td>104686</td>\n",
       "      <td>1707</td>\n",
       "    </tr>\n",
       "    <tr>\n",
       "      <th>2020-03-29</th>\n",
       "      <td>29</td>\n",
       "      <td>3</td>\n",
       "      <td>2020</td>\n",
       "      <td>19979</td>\n",
       "      <td>484</td>\n",
       "      <td>United_States_of_America</td>\n",
       "      <td>US</td>\n",
       "      <td>USA</td>\n",
       "      <td>3.271674e+08</td>\n",
       "      <td>124665</td>\n",
       "      <td>2191</td>\n",
       "    </tr>\n",
       "    <tr>\n",
       "      <th>2020-03-30</th>\n",
       "      <td>30</td>\n",
       "      <td>3</td>\n",
       "      <td>2020</td>\n",
       "      <td>18360</td>\n",
       "      <td>318</td>\n",
       "      <td>United_States_of_America</td>\n",
       "      <td>US</td>\n",
       "      <td>USA</td>\n",
       "      <td>3.271674e+08</td>\n",
       "      <td>143025</td>\n",
       "      <td>2509</td>\n",
       "    </tr>\n",
       "    <tr>\n",
       "      <th>2020-03-31</th>\n",
       "      <td>31</td>\n",
       "      <td>3</td>\n",
       "      <td>2020</td>\n",
       "      <td>21595</td>\n",
       "      <td>661</td>\n",
       "      <td>United_States_of_America</td>\n",
       "      <td>US</td>\n",
       "      <td>USA</td>\n",
       "      <td>3.271674e+08</td>\n",
       "      <td>164620</td>\n",
       "      <td>3170</td>\n",
       "    </tr>\n",
       "    <tr>\n",
       "      <th>2020-04-01</th>\n",
       "      <td>1</td>\n",
       "      <td>4</td>\n",
       "      <td>2020</td>\n",
       "      <td>24998</td>\n",
       "      <td>909</td>\n",
       "      <td>United_States_of_America</td>\n",
       "      <td>US</td>\n",
       "      <td>USA</td>\n",
       "      <td>3.271674e+08</td>\n",
       "      <td>189618</td>\n",
       "      <td>4079</td>\n",
       "    </tr>\n",
       "    <tr>\n",
       "      <th>2020-04-02</th>\n",
       "      <td>2</td>\n",
       "      <td>4</td>\n",
       "      <td>2020</td>\n",
       "      <td>27103</td>\n",
       "      <td>1059</td>\n",
       "      <td>United_States_of_America</td>\n",
       "      <td>US</td>\n",
       "      <td>USA</td>\n",
       "      <td>3.271674e+08</td>\n",
       "      <td>216721</td>\n",
       "      <td>5138</td>\n",
       "    </tr>\n",
       "    <tr>\n",
       "      <th>2020-04-03</th>\n",
       "      <td>3</td>\n",
       "      <td>4</td>\n",
       "      <td>2020</td>\n",
       "      <td>28819</td>\n",
       "      <td>915</td>\n",
       "      <td>United_States_of_America</td>\n",
       "      <td>US</td>\n",
       "      <td>USA</td>\n",
       "      <td>3.271674e+08</td>\n",
       "      <td>245540</td>\n",
       "      <td>6053</td>\n",
       "    </tr>\n",
       "    <tr>\n",
       "      <th>2020-04-04</th>\n",
       "      <td>4</td>\n",
       "      <td>4</td>\n",
       "      <td>2020</td>\n",
       "      <td>32425</td>\n",
       "      <td>1104</td>\n",
       "      <td>United_States_of_America</td>\n",
       "      <td>US</td>\n",
       "      <td>USA</td>\n",
       "      <td>3.271674e+08</td>\n",
       "      <td>277965</td>\n",
       "      <td>7157</td>\n",
       "    </tr>\n",
       "    <tr>\n",
       "      <th>2020-04-05</th>\n",
       "      <td>5</td>\n",
       "      <td>4</td>\n",
       "      <td>2020</td>\n",
       "      <td>12018</td>\n",
       "      <td>325</td>\n",
       "      <td>Germany</td>\n",
       "      <td>DE</td>\n",
       "      <td>DEU</td>\n",
       "      <td>8.292792e+07</td>\n",
       "      <td>91714</td>\n",
       "      <td>1342</td>\n",
       "    </tr>\n",
       "    <tr>\n",
       "      <th>2020-04-05</th>\n",
       "      <td>5</td>\n",
       "      <td>4</td>\n",
       "      <td>2020</td>\n",
       "      <td>34272</td>\n",
       "      <td>1344</td>\n",
       "      <td>United_States_of_America</td>\n",
       "      <td>US</td>\n",
       "      <td>USA</td>\n",
       "      <td>3.271674e+08</td>\n",
       "      <td>312237</td>\n",
       "      <td>8501</td>\n",
       "    </tr>\n",
       "  </tbody>\n",
       "</table>\n",
       "</div>"
      ],
      "text/plain": [
       "            Day  Month  Year  NewConfCases  NewDeaths  \\\n",
       "DateRep                                                 \n",
       "2020-02-13   13      2  2020         15141        254   \n",
       "2020-03-26   26      3  2020         13963        249   \n",
       "2020-03-27   27      3  2020         16797        246   \n",
       "2020-03-28   28      3  2020         18695        411   \n",
       "2020-03-29   29      3  2020         19979        484   \n",
       "2020-03-30   30      3  2020         18360        318   \n",
       "2020-03-31   31      3  2020         21595        661   \n",
       "2020-04-01    1      4  2020         24998        909   \n",
       "2020-04-02    2      4  2020         27103       1059   \n",
       "2020-04-03    3      4  2020         28819        915   \n",
       "2020-04-04    4      4  2020         32425       1104   \n",
       "2020-04-05    5      4  2020         12018        325   \n",
       "2020-04-05    5      4  2020         34272       1344   \n",
       "\n",
       "                          CountryExp GeoId countryterritoryCode   popData2018  \\\n",
       "DateRep                                                                         \n",
       "2020-02-13                     China    CN                  CHN  1.392730e+09   \n",
       "2020-03-26  United_States_of_America    US                  USA  3.271674e+08   \n",
       "2020-03-27  United_States_of_America    US                  USA  3.271674e+08   \n",
       "2020-03-28  United_States_of_America    US                  USA  3.271674e+08   \n",
       "2020-03-29  United_States_of_America    US                  USA  3.271674e+08   \n",
       "2020-03-30  United_States_of_America    US                  USA  3.271674e+08   \n",
       "2020-03-31  United_States_of_America    US                  USA  3.271674e+08   \n",
       "2020-04-01  United_States_of_America    US                  USA  3.271674e+08   \n",
       "2020-04-02  United_States_of_America    US                  USA  3.271674e+08   \n",
       "2020-04-03  United_States_of_America    US                  USA  3.271674e+08   \n",
       "2020-04-04  United_States_of_America    US                  USA  3.271674e+08   \n",
       "2020-04-05                   Germany    DE                  DEU  8.292792e+07   \n",
       "2020-04-05  United_States_of_America    US                  USA  3.271674e+08   \n",
       "\n",
       "            NewConfCases_cum  NewDeaths_cum  \n",
       "DateRep                                      \n",
       "2020-02-13             59865           1368  \n",
       "2020-03-26             69194           1050  \n",
       "2020-03-27             85991           1296  \n",
       "2020-03-28            104686           1707  \n",
       "2020-03-29            124665           2191  \n",
       "2020-03-30            143025           2509  \n",
       "2020-03-31            164620           3170  \n",
       "2020-04-01            189618           4079  \n",
       "2020-04-02            216721           5138  \n",
       "2020-04-03            245540           6053  \n",
       "2020-04-04            277965           7157  \n",
       "2020-04-05             91714           1342  \n",
       "2020-04-05            312237           8501  "
      ]
     },
     "execution_count": 68,
     "metadata": {},
     "output_type": "execute_result"
    }
   ],
   "source": [
    "# Huge peak in February\n",
    "covid19_data[covid19_data['NewConfCases'] >= 12000]"
   ]
  },
  {
   "cell_type": "code",
   "execution_count": 69,
   "metadata": {
    "scrolled": true
   },
   "outputs": [
    {
     "data": {
      "text/html": [
       "<div>\n",
       "<style scoped>\n",
       "    .dataframe tbody tr th:only-of-type {\n",
       "        vertical-align: middle;\n",
       "    }\n",
       "\n",
       "    .dataframe tbody tr th {\n",
       "        vertical-align: top;\n",
       "    }\n",
       "\n",
       "    .dataframe thead th {\n",
       "        text-align: right;\n",
       "    }\n",
       "</style>\n",
       "<table border=\"1\" class=\"dataframe\">\n",
       "  <thead>\n",
       "    <tr style=\"text-align: right;\">\n",
       "      <th></th>\n",
       "      <th>Day</th>\n",
       "      <th>Month</th>\n",
       "      <th>Year</th>\n",
       "      <th>NewConfCases</th>\n",
       "      <th>NewDeaths</th>\n",
       "      <th>CountryExp</th>\n",
       "      <th>GeoId</th>\n",
       "      <th>countryterritoryCode</th>\n",
       "      <th>popData2018</th>\n",
       "      <th>NewConfCases_cum</th>\n",
       "      <th>NewDeaths_cum</th>\n",
       "    </tr>\n",
       "    <tr>\n",
       "      <th>DateRep</th>\n",
       "      <th></th>\n",
       "      <th></th>\n",
       "      <th></th>\n",
       "      <th></th>\n",
       "      <th></th>\n",
       "      <th></th>\n",
       "      <th></th>\n",
       "      <th></th>\n",
       "      <th></th>\n",
       "      <th></th>\n",
       "      <th></th>\n",
       "    </tr>\n",
       "  </thead>\n",
       "  <tbody>\n",
       "    <tr>\n",
       "      <th>2020-02-13</th>\n",
       "      <td>13</td>\n",
       "      <td>2</td>\n",
       "      <td>2020</td>\n",
       "      <td>15141</td>\n",
       "      <td>254</td>\n",
       "      <td>China</td>\n",
       "      <td>CN</td>\n",
       "      <td>CHN</td>\n",
       "      <td>1.392730e+09</td>\n",
       "      <td>59865</td>\n",
       "      <td>1368</td>\n",
       "    </tr>\n",
       "    <tr>\n",
       "      <th>2020-02-13</th>\n",
       "      <td>13</td>\n",
       "      <td>2</td>\n",
       "      <td>2020</td>\n",
       "      <td>4</td>\n",
       "      <td>1</td>\n",
       "      <td>Japan</td>\n",
       "      <td>JP</td>\n",
       "      <td>JPN</td>\n",
       "      <td>1.265291e+08</td>\n",
       "      <td>29</td>\n",
       "      <td>1</td>\n",
       "    </tr>\n",
       "    <tr>\n",
       "      <th>2020-02-13</th>\n",
       "      <td>13</td>\n",
       "      <td>2</td>\n",
       "      <td>2020</td>\n",
       "      <td>3</td>\n",
       "      <td>0</td>\n",
       "      <td>Singapore</td>\n",
       "      <td>SG</td>\n",
       "      <td>SGP</td>\n",
       "      <td>5.638676e+06</td>\n",
       "      <td>50</td>\n",
       "      <td>0</td>\n",
       "    </tr>\n",
       "    <tr>\n",
       "      <th>2020-02-13</th>\n",
       "      <td>13</td>\n",
       "      <td>2</td>\n",
       "      <td>2020</td>\n",
       "      <td>1</td>\n",
       "      <td>0</td>\n",
       "      <td>Vietnam</td>\n",
       "      <td>VN</td>\n",
       "      <td>VNM</td>\n",
       "      <td>9.554040e+07</td>\n",
       "      <td>16</td>\n",
       "      <td>0</td>\n",
       "    </tr>\n",
       "    <tr>\n",
       "      <th>2020-02-13</th>\n",
       "      <td>13</td>\n",
       "      <td>2</td>\n",
       "      <td>2020</td>\n",
       "      <td>1</td>\n",
       "      <td>0</td>\n",
       "      <td>United_States_of_America</td>\n",
       "      <td>US</td>\n",
       "      <td>USA</td>\n",
       "      <td>3.271674e+08</td>\n",
       "      <td>14</td>\n",
       "      <td>0</td>\n",
       "    </tr>\n",
       "  </tbody>\n",
       "</table>\n",
       "</div>"
      ],
      "text/plain": [
       "            Day  Month  Year  NewConfCases  NewDeaths  \\\n",
       "DateRep                                                 \n",
       "2020-02-13   13      2  2020         15141        254   \n",
       "2020-02-13   13      2  2020             4          1   \n",
       "2020-02-13   13      2  2020             3          0   \n",
       "2020-02-13   13      2  2020             1          0   \n",
       "2020-02-13   13      2  2020             1          0   \n",
       "\n",
       "                          CountryExp GeoId countryterritoryCode   popData2018  \\\n",
       "DateRep                                                                         \n",
       "2020-02-13                     China    CN                  CHN  1.392730e+09   \n",
       "2020-02-13                     Japan    JP                  JPN  1.265291e+08   \n",
       "2020-02-13                 Singapore    SG                  SGP  5.638676e+06   \n",
       "2020-02-13                   Vietnam    VN                  VNM  9.554040e+07   \n",
       "2020-02-13  United_States_of_America    US                  USA  3.271674e+08   \n",
       "\n",
       "            NewConfCases_cum  NewDeaths_cum  \n",
       "DateRep                                      \n",
       "2020-02-13             59865           1368  \n",
       "2020-02-13                29              1  \n",
       "2020-02-13                50              0  \n",
       "2020-02-13                16              0  \n",
       "2020-02-13                14              0  "
      ]
     },
     "execution_count": 69,
     "metadata": {},
     "output_type": "execute_result"
    }
   ],
   "source": [
    "covid19_data[covid19_data.index == '2020-02-13'].sort_values('NewConfCases', ascending=False).head()"
   ]
  },
  {
   "cell_type": "code",
   "execution_count": 70,
   "metadata": {},
   "outputs": [],
   "source": [
    "# Because China has a different scale I'm separating it\n",
    "covid19_data_china = covid19_data[covid19_data['CountryExp'] == 'China']\n",
    "covid19_data_nonchina = covid19_data[covid19_data['CountryExp'] != 'China']"
   ]
  },
  {
   "cell_type": "markdown",
   "metadata": {},
   "source": [
    "#### China "
   ]
  },
  {
   "cell_type": "code",
   "execution_count": 71,
   "metadata": {
    "scrolled": true
   },
   "outputs": [
    {
     "data": {
      "text/plain": [
       "<matplotlib.axes._subplots.AxesSubplot at 0x2c83bed1ba8>"
      ]
     },
     "execution_count": 71,
     "metadata": {},
     "output_type": "execute_result"
    },
    {
     "data": {
      "image/png": "[encoded data removed]",
      "text/plain": [
       "<Figure size 432x288 with 1 Axes>"
      ]
     },
     "metadata": {
      "needs_background": "light"
     },
     "output_type": "display_data"
    }
   ],
   "source": [
    "covid19_data_bydate_china = covid19_data_china.groupby(covid19_data_china.index)['NewConfCases'].sum()\n",
    "covid19_data_bydate_china.plot()"
   ]
  },
  {
   "cell_type": "markdown",
   "metadata": {},
   "source": [
    "#### Non China"
   ]
  },
  {
   "cell_type": "code",
   "execution_count": 72,
   "metadata": {
    "scrolled": true
   },
   "outputs": [
    {
     "data": {
      "text/plain": [
       "<matplotlib.axes._subplots.AxesSubplot at 0x2c83bcbd208>"
      ]
     },
     "execution_count": 72,
     "metadata": {},
     "output_type": "execute_result"
    },
    {
     "data": {
      "image/png": "[encoded data removed]",
      "text/plain": [
       "<Figure size 432x288 with 1 Axes>"
      ]
     },
     "metadata": {
      "needs_background": "light"
     },
     "output_type": "display_data"
    }
   ],
   "source": [
    "covid19_data_bydate_nonchina = covid19_data_nonchina.groupby(covid19_data_nonchina.index)['NewConfCases'].sum()\n",
    "covid19_data_bydate_nonchina.plot()"
   ]
  },
  {
   "cell_type": "markdown",
   "metadata": {},
   "source": [
    "While China seems to have passed the worst phase of the disease, the rest of the countries seem to be entering it"
   ]
  },
  {
   "cell_type": "markdown",
   "metadata": {},
   "source": [
    "#### Countries worst infected"
   ]
  },
  {
   "cell_type": "code",
   "execution_count": 74,
   "metadata": {
    "scrolled": true
   },
   "outputs": [
    {
     "data": {
      "text/plain": [
       "CountryExp\n",
       "United_States_of_America    312237\n",
       "Spain                       124736\n",
       "Italy                       124632\n",
       "Germany                      91714\n",
       "France                       68605\n",
       "Iran                         55743\n",
       "United_Kingdom               41903\n",
       "Turkey                       23934\n",
       "Switzerland                  20489\n",
       "Belgium                      18431\n",
       "Netherlands                  16627\n",
       "Canada                       13882\n",
       "Austria                      11766\n",
       "Portugal                     10524\n",
       "Brazil                       10278\n",
       "Name: NewConfCases, dtype: int64"
      ]
     },
     "execution_count": 74,
     "metadata": {},
     "output_type": "execute_result"
    }
   ],
   "source": [
    "countries_worst = covid19_data_nonchina.groupby(['CountryExp'])['NewConfCases'].sum().sort_values(ascending=False).head(15).index\n",
    "covid19_data_nonchina.groupby(['CountryExp'])['NewConfCases'].sum().sort_values(ascending=False).head(15)"
   ]
  },
  {
   "cell_type": "code",
   "execution_count": 88,
   "metadata": {},
   "outputs": [
    {
     "data": {
      "text/plain": [
       "<matplotlib.legend.Legend at 0x2c83be3fda0>"
      ]
     },
     "execution_count": 88,
     "metadata": {},
     "output_type": "execute_result"
    },
    {
     "data": {
      "image/png": "[encoded data removed]",
      "text/plain": [
       "<Figure size 432x288 with 1 Axes>"
      ]
     },
     "metadata": {
      "needs_background": "light"
     },
     "output_type": "display_data"
    }
   ],
   "source": [
    "data_nonchina_before = covid19_data_nonchina.loc[covid19_data_nonchina.index<'2020-03-21',:]\n",
    "\n",
    "for i, country in enumerate(countries_worst): \n",
    "    data = data_nonchina_before[data_nonchina_before['CountryExp'] == country].groupby(data_nonchina_before[data_nonchina_before['CountryExp'] == country].index)['NewConfCases'].sum()\n",
    "    plt.plot(data, label=country)\n",
    "    if i == 6:\n",
    "        break\n",
    "plt.legend()"
   ]
  },
  {
   "cell_type": "code",
   "execution_count": 75,
   "metadata": {},
   "outputs": [
    {
     "data": {
      "text/plain": [
       "<matplotlib.legend.Legend at 0x2c83bd2cb00>"
      ]
     },
     "execution_count": 75,
     "metadata": {},
     "output_type": "execute_result"
    },
    {
     "data": {
      "image/png": "[encoded data removed]",
      "text/plain": [
       "<Figure size 432x288 with 1 Axes>"
      ]
     },
     "metadata": {
      "needs_background": "light"
     },
     "output_type": "display_data"
    }
   ],
   "source": [
    "for i, country in enumerate(countries_worst): \n",
    "    data = covid19_data_nonchina[covid19_data_nonchina['CountryExp'] == country].groupby(covid19_data_nonchina[covid19_data_nonchina['CountryExp'] == country].index)['NewConfCases'].sum()\n",
    "    plt.plot(data, label=country)\n",
    "    if i == 6:\n",
    "        break\n",
    "plt.legend()"
   ]
  },
  {
   "cell_type": "markdown",
   "metadata": {},
   "source": [
    "South Korea seems to be handling it differently."
   ]
  },
  {
   "cell_type": "markdown",
   "metadata": {},
   "source": [
    "#### Argentina"
   ]
  },
  {
   "cell_type": "code",
   "execution_count": 76,
   "metadata": {},
   "outputs": [
    {
     "data": {
      "text/plain": [
       "<matplotlib.axes._subplots.AxesSubplot at 0x2c83bd2cda0>"
      ]
     },
     "execution_count": 76,
     "metadata": {},
     "output_type": "execute_result"
    },
    {
     "data": {
      "image/png": "[encoded data removed]",
      "text/plain": [
       "<Figure size 432x288 with 1 Axes>"
      ]
     },
     "metadata": {
      "needs_background": "light"
     },
     "output_type": "display_data"
    }
   ],
   "source": [
    "covid19_data_nonchina[covid19_data_nonchina['CountryExp'] == 'Argentina'].groupby(covid19_data_nonchina[covid19_data_nonchina['CountryExp'] == 'Argentina'].index)['NewConfCases'].sum().plot()"
   ]
  },
  {
   "cell_type": "markdown",
   "metadata": {},
   "source": [
    "## Plot contagion trend evolution analysis"
   ]
  },
  {
   "cell_type": "markdown",
   "metadata": {},
   "source": [
    "### China"
   ]
  },
  {
   "cell_type": "code",
   "execution_count": 77,
   "metadata": {
    "scrolled": true
   },
   "outputs": [
    {
     "data": {
      "text/plain": [
       "<matplotlib.axes._subplots.AxesSubplot at 0x2c83bdec3c8>"
      ]
     },
     "execution_count": 77,
     "metadata": {},
     "output_type": "execute_result"
    },
    {
     "data": {
      "image/png": "[encoded data removed]",
      "text/plain": [
       "<Figure size 432x288 with 1 Axes>"
      ]
     },
     "metadata": {
      "needs_background": "light"
     },
     "output_type": "display_data"
    }
   ],
   "source": [
    "country_filter = 'China'\n",
    "covid19_data[covid19_data['CountryExp'] == country_filter]['NewConfCases_cum'].plot()"
   ]
  },
  {
   "cell_type": "markdown",
   "metadata": {},
   "source": [
    "China is entering a stationary phase"
   ]
  },
  {
   "cell_type": "markdown",
   "metadata": {},
   "source": [
    "### Countries worst"
   ]
  },
  {
   "cell_type": "code",
   "execution_count": 78,
   "metadata": {
    "scrolled": true
   },
   "outputs": [
    {
     "data": {
      "text/plain": [
       "Index(['United_States_of_America', 'Spain', 'Italy', 'Germany', 'France',\n",
       "       'Iran', 'United_Kingdom', 'Turkey', 'Switzerland', 'Belgium',\n",
       "       'Netherlands', 'Canada', 'Austria', 'Portugal', 'Brazil'],\n",
       "      dtype='object', name='CountryExp')"
      ]
     },
     "execution_count": 78,
     "metadata": {},
     "output_type": "execute_result"
    }
   ],
   "source": [
    "countries_worst"
   ]
  },
  {
   "cell_type": "code",
   "execution_count": 79,
   "metadata": {},
   "outputs": [
    {
     "data": {
      "text/plain": [
       "<matplotlib.legend.Legend at 0x2c83bd7fa58>"
      ]
     },
     "execution_count": 79,
     "metadata": {},
     "output_type": "execute_result"
    },
    {
     "data": {
      "image/png": "[encoded data removed]",
      "text/plain": [
       "<Figure size 432x288 with 1 Axes>"
      ]
     },
     "metadata": {
      "needs_background": "light"
     },
     "output_type": "display_data"
    }
   ],
   "source": [
    "for i, country in enumerate(countries_worst): \n",
    "    plt.plot(covid19_data[covid19_data['CountryExp'] == country]['NewConfCases_cum'], label=country)\n",
    "    if i == 10:\n",
    "        break\n",
    "plt.legend()"
   ]
  },
  {
   "cell_type": "markdown",
   "metadata": {},
   "source": [
    "Other countries (non China) seem to be still raising. South Korea has a different behaviour - ? "
   ]
  },
  {
   "cell_type": "markdown",
   "metadata": {},
   "source": [
    "## Join datasets"
   ]
  },
  {
   "cell_type": "code",
   "execution_count": 66,
   "metadata": {},
   "outputs": [
    {
     "data": {
      "text/html": [
       "<div>\n",
       "<style scoped>\n",
       "    .dataframe tbody tr th:only-of-type {\n",
       "        vertical-align: middle;\n",
       "    }\n",
       "\n",
       "    .dataframe tbody tr th {\n",
       "        vertical-align: top;\n",
       "    }\n",
       "\n",
       "    .dataframe thead th {\n",
       "        text-align: right;\n",
       "    }\n",
       "</style>\n",
       "<table border=\"1\" class=\"dataframe\">\n",
       "  <thead>\n",
       "    <tr style=\"text-align: right;\">\n",
       "      <th></th>\n",
       "      <th>Country Name</th>\n",
       "      <th>Population</th>\n",
       "    </tr>\n",
       "  </thead>\n",
       "  <tbody>\n",
       "    <tr>\n",
       "      <th>0</th>\n",
       "      <td>Aruba</td>\n",
       "      <td>105845.0</td>\n",
       "    </tr>\n",
       "    <tr>\n",
       "      <th>1</th>\n",
       "      <td>Afghanistan</td>\n",
       "      <td>37172386.0</td>\n",
       "    </tr>\n",
       "    <tr>\n",
       "      <th>2</th>\n",
       "      <td>Angola</td>\n",
       "      <td>30809762.0</td>\n",
       "    </tr>\n",
       "    <tr>\n",
       "      <th>3</th>\n",
       "      <td>Albania</td>\n",
       "      <td>2866376.0</td>\n",
       "    </tr>\n",
       "    <tr>\n",
       "      <th>4</th>\n",
       "      <td>Andorra</td>\n",
       "      <td>77006.0</td>\n",
       "    </tr>\n",
       "  </tbody>\n",
       "</table>\n",
       "</div>"
      ],
      "text/plain": [
       "  Country Name  Population\n",
       "0        Aruba    105845.0\n",
       "1  Afghanistan  37172386.0\n",
       "2       Angola  30809762.0\n",
       "3      Albania   2866376.0\n",
       "4      Andorra     77006.0"
      ]
     },
     "execution_count": 66,
     "metadata": {},
     "output_type": "execute_result"
    }
   ],
   "source": [
    "population_by_country.head()"
   ]
  },
  {
   "cell_type": "code",
   "execution_count": 67,
   "metadata": {},
   "outputs": [
    {
     "data": {
      "text/html": [
       "<div>\n",
       "<style scoped>\n",
       "    .dataframe tbody tr th:only-of-type {\n",
       "        vertical-align: middle;\n",
       "    }\n",
       "\n",
       "    .dataframe tbody tr th {\n",
       "        vertical-align: top;\n",
       "    }\n",
       "\n",
       "    .dataframe thead th {\n",
       "        text-align: right;\n",
       "    }\n",
       "</style>\n",
       "<table border=\"1\" class=\"dataframe\">\n",
       "  <thead>\n",
       "    <tr style=\"text-align: right;\">\n",
       "      <th></th>\n",
       "      <th>Day</th>\n",
       "      <th>Month</th>\n",
       "      <th>Year</th>\n",
       "      <th>NewConfCases</th>\n",
       "      <th>NewDeaths</th>\n",
       "      <th>CountryExp</th>\n",
       "      <th>GeoId</th>\n",
       "      <th>NewConfCases_cum</th>\n",
       "      <th>NewDeaths_cum</th>\n",
       "    </tr>\n",
       "    <tr>\n",
       "      <th>DateRep</th>\n",
       "      <th></th>\n",
       "      <th></th>\n",
       "      <th></th>\n",
       "      <th></th>\n",
       "      <th></th>\n",
       "      <th></th>\n",
       "      <th></th>\n",
       "      <th></th>\n",
       "      <th></th>\n",
       "    </tr>\n",
       "  </thead>\n",
       "  <tbody>\n",
       "    <tr>\n",
       "      <th>2019-12-31</th>\n",
       "      <td>31</td>\n",
       "      <td>12</td>\n",
       "      <td>2019</td>\n",
       "      <td>0</td>\n",
       "      <td>0</td>\n",
       "      <td>North_Macedonia</td>\n",
       "      <td>MK</td>\n",
       "      <td>0</td>\n",
       "      <td>0</td>\n",
       "    </tr>\n",
       "    <tr>\n",
       "      <th>2019-12-31</th>\n",
       "      <td>31</td>\n",
       "      <td>12</td>\n",
       "      <td>2019</td>\n",
       "      <td>0</td>\n",
       "      <td>0</td>\n",
       "      <td>Azerbaijan</td>\n",
       "      <td>AZ</td>\n",
       "      <td>0</td>\n",
       "      <td>0</td>\n",
       "    </tr>\n",
       "    <tr>\n",
       "      <th>2019-12-31</th>\n",
       "      <td>31</td>\n",
       "      <td>12</td>\n",
       "      <td>2019</td>\n",
       "      <td>0</td>\n",
       "      <td>0</td>\n",
       "      <td>Singapore</td>\n",
       "      <td>SG</td>\n",
       "      <td>0</td>\n",
       "      <td>0</td>\n",
       "    </tr>\n",
       "    <tr>\n",
       "      <th>2019-12-31</th>\n",
       "      <td>31</td>\n",
       "      <td>12</td>\n",
       "      <td>2019</td>\n",
       "      <td>0</td>\n",
       "      <td>0</td>\n",
       "      <td>Brazil</td>\n",
       "      <td>BR</td>\n",
       "      <td>0</td>\n",
       "      <td>0</td>\n",
       "    </tr>\n",
       "    <tr>\n",
       "      <th>2019-12-31</th>\n",
       "      <td>31</td>\n",
       "      <td>12</td>\n",
       "      <td>2019</td>\n",
       "      <td>0</td>\n",
       "      <td>0</td>\n",
       "      <td>Kuwait</td>\n",
       "      <td>KW</td>\n",
       "      <td>0</td>\n",
       "      <td>0</td>\n",
       "    </tr>\n",
       "  </tbody>\n",
       "</table>\n",
       "</div>"
      ],
      "text/plain": [
       "            Day  Month  Year  NewConfCases  NewDeaths       CountryExp GeoId  \\\n",
       "DateRep                                                                        \n",
       "2019-12-31   31     12  2019             0          0  North_Macedonia    MK   \n",
       "2019-12-31   31     12  2019             0          0       Azerbaijan    AZ   \n",
       "2019-12-31   31     12  2019             0          0        Singapore    SG   \n",
       "2019-12-31   31     12  2019             0          0           Brazil    BR   \n",
       "2019-12-31   31     12  2019             0          0           Kuwait    KW   \n",
       "\n",
       "            NewConfCases_cum  NewDeaths_cum  \n",
       "DateRep                                      \n",
       "2019-12-31                 0              0  \n",
       "2019-12-31                 0              0  \n",
       "2019-12-31                 0              0  \n",
       "2019-12-31                 0              0  \n",
       "2019-12-31                 0              0  "
      ]
     },
     "execution_count": 67,
     "metadata": {},
     "output_type": "execute_result"
    }
   ],
   "source": [
    "covid19_data.head()"
   ]
  },
  {
   "cell_type": "markdown",
   "metadata": {},
   "source": [
    "Joining with population data"
   ]
  },
  {
   "cell_type": "code",
   "execution_count": 68,
   "metadata": {},
   "outputs": [],
   "source": [
    "covid19_data_pop = covid19_data.reset_index().merge(population_by_country, how='left', left_on='CountryExp', right_on='Country Name').set_index('DateRep')"
   ]
  },
  {
   "cell_type": "code",
   "execution_count": 69,
   "metadata": {
    "scrolled": true
   },
   "outputs": [
    {
     "data": {
      "text/html": [
       "<div>\n",
       "<style scoped>\n",
       "    .dataframe tbody tr th:only-of-type {\n",
       "        vertical-align: middle;\n",
       "    }\n",
       "\n",
       "    .dataframe tbody tr th {\n",
       "        vertical-align: top;\n",
       "    }\n",
       "\n",
       "    .dataframe thead th {\n",
       "        text-align: right;\n",
       "    }\n",
       "</style>\n",
       "<table border=\"1\" class=\"dataframe\">\n",
       "  <thead>\n",
       "    <tr style=\"text-align: right;\">\n",
       "      <th></th>\n",
       "      <th>Day</th>\n",
       "      <th>Month</th>\n",
       "      <th>Year</th>\n",
       "      <th>NewConfCases</th>\n",
       "      <th>NewDeaths</th>\n",
       "      <th>CountryExp</th>\n",
       "      <th>GeoId</th>\n",
       "      <th>NewConfCases_cum</th>\n",
       "      <th>NewDeaths_cum</th>\n",
       "      <th>Country Name</th>\n",
       "      <th>Population</th>\n",
       "    </tr>\n",
       "    <tr>\n",
       "      <th>DateRep</th>\n",
       "      <th></th>\n",
       "      <th></th>\n",
       "      <th></th>\n",
       "      <th></th>\n",
       "      <th></th>\n",
       "      <th></th>\n",
       "      <th></th>\n",
       "      <th></th>\n",
       "      <th></th>\n",
       "      <th></th>\n",
       "      <th></th>\n",
       "    </tr>\n",
       "  </thead>\n",
       "  <tbody>\n",
       "    <tr>\n",
       "      <th>2019-12-31</th>\n",
       "      <td>31</td>\n",
       "      <td>12</td>\n",
       "      <td>2019</td>\n",
       "      <td>0</td>\n",
       "      <td>0</td>\n",
       "      <td>North_Macedonia</td>\n",
       "      <td>MK</td>\n",
       "      <td>0</td>\n",
       "      <td>0</td>\n",
       "      <td>NaN</td>\n",
       "      <td>NaN</td>\n",
       "    </tr>\n",
       "    <tr>\n",
       "      <th>2019-12-31</th>\n",
       "      <td>31</td>\n",
       "      <td>12</td>\n",
       "      <td>2019</td>\n",
       "      <td>0</td>\n",
       "      <td>0</td>\n",
       "      <td>Azerbaijan</td>\n",
       "      <td>AZ</td>\n",
       "      <td>0</td>\n",
       "      <td>0</td>\n",
       "      <td>Azerbaijan</td>\n",
       "      <td>9942334.0</td>\n",
       "    </tr>\n",
       "    <tr>\n",
       "      <th>2019-12-31</th>\n",
       "      <td>31</td>\n",
       "      <td>12</td>\n",
       "      <td>2019</td>\n",
       "      <td>0</td>\n",
       "      <td>0</td>\n",
       "      <td>Singapore</td>\n",
       "      <td>SG</td>\n",
       "      <td>0</td>\n",
       "      <td>0</td>\n",
       "      <td>Singapore</td>\n",
       "      <td>5638676.0</td>\n",
       "    </tr>\n",
       "    <tr>\n",
       "      <th>2019-12-31</th>\n",
       "      <td>31</td>\n",
       "      <td>12</td>\n",
       "      <td>2019</td>\n",
       "      <td>0</td>\n",
       "      <td>0</td>\n",
       "      <td>Brazil</td>\n",
       "      <td>BR</td>\n",
       "      <td>0</td>\n",
       "      <td>0</td>\n",
       "      <td>Brazil</td>\n",
       "      <td>209469333.0</td>\n",
       "    </tr>\n",
       "    <tr>\n",
       "      <th>2019-12-31</th>\n",
       "      <td>31</td>\n",
       "      <td>12</td>\n",
       "      <td>2019</td>\n",
       "      <td>0</td>\n",
       "      <td>0</td>\n",
       "      <td>Kuwait</td>\n",
       "      <td>KW</td>\n",
       "      <td>0</td>\n",
       "      <td>0</td>\n",
       "      <td>Kuwait</td>\n",
       "      <td>4137309.0</td>\n",
       "    </tr>\n",
       "  </tbody>\n",
       "</table>\n",
       "</div>"
      ],
      "text/plain": [
       "            Day  Month  Year  NewConfCases  NewDeaths       CountryExp GeoId  \\\n",
       "DateRep                                                                        \n",
       "2019-12-31   31     12  2019             0          0  North_Macedonia    MK   \n",
       "2019-12-31   31     12  2019             0          0       Azerbaijan    AZ   \n",
       "2019-12-31   31     12  2019             0          0        Singapore    SG   \n",
       "2019-12-31   31     12  2019             0          0           Brazil    BR   \n",
       "2019-12-31   31     12  2019             0          0           Kuwait    KW   \n",
       "\n",
       "            NewConfCases_cum  NewDeaths_cum Country Name   Population  \n",
       "DateRep                                                                \n",
       "2019-12-31                 0              0          NaN          NaN  \n",
       "2019-12-31                 0              0   Azerbaijan    9942334.0  \n",
       "2019-12-31                 0              0    Singapore    5638676.0  \n",
       "2019-12-31                 0              0       Brazil  209469333.0  \n",
       "2019-12-31                 0              0       Kuwait    4137309.0  "
      ]
     },
     "execution_count": 69,
     "metadata": {},
     "output_type": "execute_result"
    }
   ],
   "source": [
    "covid19_data_pop.head()"
   ]
  },
  {
   "cell_type": "markdown",
   "metadata": {},
   "source": [
    "Joining with population density data"
   ]
  },
  {
   "cell_type": "code",
   "execution_count": 70,
   "metadata": {},
   "outputs": [],
   "source": [
    "covid19_data_popden = covid19_data_pop.reset_index().merge(popdensity_by_country, how='left', left_on='CountryExp', right_on='Country Name').set_index('DateRep')"
   ]
  },
  {
   "cell_type": "code",
   "execution_count": 71,
   "metadata": {
    "scrolled": true
   },
   "outputs": [
    {
     "data": {
      "text/html": [
       "<div>\n",
       "<style scoped>\n",
       "    .dataframe tbody tr th:only-of-type {\n",
       "        vertical-align: middle;\n",
       "    }\n",
       "\n",
       "    .dataframe tbody tr th {\n",
       "        vertical-align: top;\n",
       "    }\n",
       "\n",
       "    .dataframe thead th {\n",
       "        text-align: right;\n",
       "    }\n",
       "</style>\n",
       "<table border=\"1\" class=\"dataframe\">\n",
       "  <thead>\n",
       "    <tr style=\"text-align: right;\">\n",
       "      <th></th>\n",
       "      <th>Day</th>\n",
       "      <th>Month</th>\n",
       "      <th>Year</th>\n",
       "      <th>NewConfCases</th>\n",
       "      <th>NewDeaths</th>\n",
       "      <th>CountryExp</th>\n",
       "      <th>GeoId</th>\n",
       "      <th>NewConfCases_cum</th>\n",
       "      <th>NewDeaths_cum</th>\n",
       "      <th>Country Name_x</th>\n",
       "      <th>Population</th>\n",
       "      <th>Country Name_y</th>\n",
       "      <th>Population Density</th>\n",
       "    </tr>\n",
       "    <tr>\n",
       "      <th>DateRep</th>\n",
       "      <th></th>\n",
       "      <th></th>\n",
       "      <th></th>\n",
       "      <th></th>\n",
       "      <th></th>\n",
       "      <th></th>\n",
       "      <th></th>\n",
       "      <th></th>\n",
       "      <th></th>\n",
       "      <th></th>\n",
       "      <th></th>\n",
       "      <th></th>\n",
       "      <th></th>\n",
       "    </tr>\n",
       "  </thead>\n",
       "  <tbody>\n",
       "    <tr>\n",
       "      <th>2019-12-31</th>\n",
       "      <td>31</td>\n",
       "      <td>12</td>\n",
       "      <td>2019</td>\n",
       "      <td>0</td>\n",
       "      <td>0</td>\n",
       "      <td>North_Macedonia</td>\n",
       "      <td>MK</td>\n",
       "      <td>0</td>\n",
       "      <td>0</td>\n",
       "      <td>NaN</td>\n",
       "      <td>NaN</td>\n",
       "      <td>NaN</td>\n",
       "      <td>NaN</td>\n",
       "    </tr>\n",
       "    <tr>\n",
       "      <th>2019-12-31</th>\n",
       "      <td>31</td>\n",
       "      <td>12</td>\n",
       "      <td>2019</td>\n",
       "      <td>0</td>\n",
       "      <td>0</td>\n",
       "      <td>Azerbaijan</td>\n",
       "      <td>AZ</td>\n",
       "      <td>0</td>\n",
       "      <td>0</td>\n",
       "      <td>Azerbaijan</td>\n",
       "      <td>9942334.0</td>\n",
       "      <td>Azerbaijan</td>\n",
       "      <td>120.265320</td>\n",
       "    </tr>\n",
       "    <tr>\n",
       "      <th>2019-12-31</th>\n",
       "      <td>31</td>\n",
       "      <td>12</td>\n",
       "      <td>2019</td>\n",
       "      <td>0</td>\n",
       "      <td>0</td>\n",
       "      <td>Singapore</td>\n",
       "      <td>SG</td>\n",
       "      <td>0</td>\n",
       "      <td>0</td>\n",
       "      <td>Singapore</td>\n",
       "      <td>5638676.0</td>\n",
       "      <td>Singapore</td>\n",
       "      <td>7952.998418</td>\n",
       "    </tr>\n",
       "    <tr>\n",
       "      <th>2019-12-31</th>\n",
       "      <td>31</td>\n",
       "      <td>12</td>\n",
       "      <td>2019</td>\n",
       "      <td>0</td>\n",
       "      <td>0</td>\n",
       "      <td>Brazil</td>\n",
       "      <td>BR</td>\n",
       "      <td>0</td>\n",
       "      <td>0</td>\n",
       "      <td>Brazil</td>\n",
       "      <td>209469333.0</td>\n",
       "      <td>Brazil</td>\n",
       "      <td>25.061716</td>\n",
       "    </tr>\n",
       "    <tr>\n",
       "      <th>2019-12-31</th>\n",
       "      <td>31</td>\n",
       "      <td>12</td>\n",
       "      <td>2019</td>\n",
       "      <td>0</td>\n",
       "      <td>0</td>\n",
       "      <td>Kuwait</td>\n",
       "      <td>KW</td>\n",
       "      <td>0</td>\n",
       "      <td>0</td>\n",
       "      <td>Kuwait</td>\n",
       "      <td>4137309.0</td>\n",
       "      <td>Kuwait</td>\n",
       "      <td>232.172222</td>\n",
       "    </tr>\n",
       "  </tbody>\n",
       "</table>\n",
       "</div>"
      ],
      "text/plain": [
       "            Day  Month  Year  NewConfCases  NewDeaths       CountryExp GeoId  \\\n",
       "DateRep                                                                        \n",
       "2019-12-31   31     12  2019             0          0  North_Macedonia    MK   \n",
       "2019-12-31   31     12  2019             0          0       Azerbaijan    AZ   \n",
       "2019-12-31   31     12  2019             0          0        Singapore    SG   \n",
       "2019-12-31   31     12  2019             0          0           Brazil    BR   \n",
       "2019-12-31   31     12  2019             0          0           Kuwait    KW   \n",
       "\n",
       "            NewConfCases_cum  NewDeaths_cum Country Name_x   Population  \\\n",
       "DateRep                                                                   \n",
       "2019-12-31                 0              0            NaN          NaN   \n",
       "2019-12-31                 0              0     Azerbaijan    9942334.0   \n",
       "2019-12-31                 0              0      Singapore    5638676.0   \n",
       "2019-12-31                 0              0         Brazil  209469333.0   \n",
       "2019-12-31                 0              0         Kuwait    4137309.0   \n",
       "\n",
       "           Country Name_y  Population Density  \n",
       "DateRep                                        \n",
       "2019-12-31            NaN                 NaN  \n",
       "2019-12-31     Azerbaijan          120.265320  \n",
       "2019-12-31      Singapore         7952.998418  \n",
       "2019-12-31         Brazil           25.061716  \n",
       "2019-12-31         Kuwait          232.172222  "
      ]
     },
     "execution_count": 71,
     "metadata": {},
     "output_type": "execute_result"
    }
   ],
   "source": [
    "covid19_data_popden.head()"
   ]
  },
  {
   "cell_type": "code",
   "execution_count": 72,
   "metadata": {},
   "outputs": [],
   "source": [
    "covid19_data_popden.drop(columns=['Country Name_x','Country Name_y'], inplace=True)"
   ]
  },
  {
   "cell_type": "markdown",
   "metadata": {},
   "source": [
    "# Export"
   ]
  },
  {
   "cell_type": "code",
   "execution_count": 73,
   "metadata": {},
   "outputs": [],
   "source": [
    "with open(os.path.join(PATH_ROOT_INTERIM_DATA,INTERIM_DATA_NAME), 'wb') as f:\n",
    "    pickle.dump(covid19_data_popden, f)"
   ]
  }
 ],
 "metadata": {
  "kernelspec": {
   "display_name": "Python 3",
   "language": "python",
   "name": "python3"
  },
  "language_info": {
   "codemirror_mode": {
    "name": "ipython",
    "version": 3
   },
   "file_extension": ".py",
   "mimetype": "text/x-python",
   "name": "python",
   "nbconvert_exporter": "python",
   "pygments_lexer": "ipython3",
   "version": "3.6.4"
  },
  "toc": {
   "base_numbering": 1,
   "nav_menu": {},
   "number_sections": true,
   "sideBar": true,
   "skip_h1_title": false,
   "title_cell": "Table of Contents",
   "title_sidebar": "Contents",
   "toc_cell": false,
   "toc_position": {
    "height": "calc(100% - 180px)",
    "left": "10px",
    "top": "150px",
    "width": "197.066px"
   },
   "toc_section_display": true,
   "toc_window_display": true
  }
 },
 "nbformat": 4,
 "nbformat_minor": 2
}
